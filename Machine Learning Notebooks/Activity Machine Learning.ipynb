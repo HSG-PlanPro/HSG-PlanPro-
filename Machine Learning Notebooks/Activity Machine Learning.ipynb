{
 "cells": [
  {
   "cell_type": "code",
   "execution_count": 1,
   "id": "33c8faef-f495-496c-9482-83dea9218395",
   "metadata": {},
   "outputs": [
    {
     "data": {
      "text/html": [
       "<div>\n",
       "<style scoped>\n",
       "    .dataframe tbody tr th:only-of-type {\n",
       "        vertical-align: middle;\n",
       "    }\n",
       "\n",
       "    .dataframe tbody tr th {\n",
       "        vertical-align: top;\n",
       "    }\n",
       "\n",
       "    .dataframe thead th {\n",
       "        text-align: right;\n",
       "    }\n",
       "</style>\n",
       "<table border=\"1\" class=\"dataframe\">\n",
       "  <thead>\n",
       "    <tr style=\"text-align: right;\">\n",
       "      <th></th>\n",
       "      <th>Date</th>\n",
       "      <th>Work</th>\n",
       "      <th>School/Study</th>\n",
       "      <th>Leisure/Break</th>\n",
       "      <th>Chore</th>\n",
       "      <th>Sleep</th>\n",
       "      <th>Rating</th>\n",
       "    </tr>\n",
       "  </thead>\n",
       "  <tbody>\n",
       "    <tr>\n",
       "      <th>0</th>\n",
       "      <td>2024-11-20</td>\n",
       "      <td>3</td>\n",
       "      <td>7</td>\n",
       "      <td>4</td>\n",
       "      <td>3</td>\n",
       "      <td>5</td>\n",
       "      <td>Bad</td>\n",
       "    </tr>\n",
       "    <tr>\n",
       "      <th>1</th>\n",
       "      <td>2024-11-21</td>\n",
       "      <td>0</td>\n",
       "      <td>9</td>\n",
       "      <td>3</td>\n",
       "      <td>5</td>\n",
       "      <td>7</td>\n",
       "      <td>Normal</td>\n",
       "    </tr>\n",
       "    <tr>\n",
       "      <th>2</th>\n",
       "      <td>2024-11-22</td>\n",
       "      <td>0</td>\n",
       "      <td>7</td>\n",
       "      <td>4</td>\n",
       "      <td>4</td>\n",
       "      <td>9</td>\n",
       "      <td>Good</td>\n",
       "    </tr>\n",
       "    <tr>\n",
       "      <th>3</th>\n",
       "      <td>2024-11-19</td>\n",
       "      <td>7</td>\n",
       "      <td>2</td>\n",
       "      <td>3</td>\n",
       "      <td>3</td>\n",
       "      <td>4</td>\n",
       "      <td>NaN</td>\n",
       "    </tr>\n",
       "    <tr>\n",
       "      <th>4</th>\n",
       "      <td>2024-11-18</td>\n",
       "      <td>3</td>\n",
       "      <td>2</td>\n",
       "      <td>2</td>\n",
       "      <td>4</td>\n",
       "      <td>8</td>\n",
       "      <td>NaN</td>\n",
       "    </tr>\n",
       "    <tr>\n",
       "      <th>...</th>\n",
       "      <td>...</td>\n",
       "      <td>...</td>\n",
       "      <td>...</td>\n",
       "      <td>...</td>\n",
       "      <td>...</td>\n",
       "      <td>...</td>\n",
       "      <td>...</td>\n",
       "    </tr>\n",
       "    <tr>\n",
       "      <th>98</th>\n",
       "      <td>2024-08-16</td>\n",
       "      <td>6</td>\n",
       "      <td>10</td>\n",
       "      <td>5</td>\n",
       "      <td>4</td>\n",
       "      <td>6</td>\n",
       "      <td>NaN</td>\n",
       "    </tr>\n",
       "    <tr>\n",
       "      <th>99</th>\n",
       "      <td>2024-08-15</td>\n",
       "      <td>2</td>\n",
       "      <td>2</td>\n",
       "      <td>0</td>\n",
       "      <td>1</td>\n",
       "      <td>5</td>\n",
       "      <td>NaN</td>\n",
       "    </tr>\n",
       "    <tr>\n",
       "      <th>100</th>\n",
       "      <td>2024-08-14</td>\n",
       "      <td>2</td>\n",
       "      <td>10</td>\n",
       "      <td>3</td>\n",
       "      <td>3</td>\n",
       "      <td>9</td>\n",
       "      <td>NaN</td>\n",
       "    </tr>\n",
       "    <tr>\n",
       "      <th>101</th>\n",
       "      <td>2024-08-13</td>\n",
       "      <td>9</td>\n",
       "      <td>9</td>\n",
       "      <td>5</td>\n",
       "      <td>2</td>\n",
       "      <td>7</td>\n",
       "      <td>NaN</td>\n",
       "    </tr>\n",
       "    <tr>\n",
       "      <th>102</th>\n",
       "      <td>2024-08-12</td>\n",
       "      <td>6</td>\n",
       "      <td>1</td>\n",
       "      <td>1</td>\n",
       "      <td>1</td>\n",
       "      <td>10</td>\n",
       "      <td>NaN</td>\n",
       "    </tr>\n",
       "  </tbody>\n",
       "</table>\n",
       "<p>103 rows × 7 columns</p>\n",
       "</div>"
      ],
      "text/plain": [
       "           Date  Work  School/Study  Leisure/Break  Chore  Sleep  Rating\n",
       "0    2024-11-20     3             7              4      3      5     Bad\n",
       "1    2024-11-21     0             9              3      5      7  Normal\n",
       "2    2024-11-22     0             7              4      4      9    Good\n",
       "3    2024-11-19     7             2              3      3      4     NaN\n",
       "4    2024-11-18     3             2              2      4      8     NaN\n",
       "..          ...   ...           ...            ...    ...    ...     ...\n",
       "98   2024-08-16     6            10              5      4      6     NaN\n",
       "99   2024-08-15     2             2              0      1      5     NaN\n",
       "100  2024-08-14     2            10              3      3      9     NaN\n",
       "101  2024-08-13     9             9              5      2      7     NaN\n",
       "102  2024-08-12     6             1              1      1     10     NaN\n",
       "\n",
       "[103 rows x 7 columns]"
      ]
     },
     "execution_count": 1,
     "metadata": {},
     "output_type": "execute_result"
    }
   ],
   "source": [
    "import pandas as pd\n",
    "df = pd.read_csv('daily_activity.csv')\n",
    "df"
   ]
  },
  {
   "cell_type": "code",
   "execution_count": 3,
   "id": "697a966e-322d-4166-a0ef-147001b0cb40",
   "metadata": {},
   "outputs": [
    {
     "data": {
      "text/html": [
       "<div>\n",
       "<style scoped>\n",
       "    .dataframe tbody tr th:only-of-type {\n",
       "        vertical-align: middle;\n",
       "    }\n",
       "\n",
       "    .dataframe tbody tr th {\n",
       "        vertical-align: top;\n",
       "    }\n",
       "\n",
       "    .dataframe thead th {\n",
       "        text-align: right;\n",
       "    }\n",
       "</style>\n",
       "<table border=\"1\" class=\"dataframe\">\n",
       "  <thead>\n",
       "    <tr style=\"text-align: right;\">\n",
       "      <th></th>\n",
       "      <th>Work</th>\n",
       "      <th>School/Study</th>\n",
       "      <th>Leisure/Break</th>\n",
       "      <th>Chore</th>\n",
       "      <th>Rating</th>\n",
       "    </tr>\n",
       "  </thead>\n",
       "  <tbody>\n",
       "    <tr>\n",
       "      <th>0</th>\n",
       "      <td>3</td>\n",
       "      <td>7</td>\n",
       "      <td>4</td>\n",
       "      <td>3</td>\n",
       "      <td>Bad</td>\n",
       "    </tr>\n",
       "    <tr>\n",
       "      <th>1</th>\n",
       "      <td>0</td>\n",
       "      <td>9</td>\n",
       "      <td>3</td>\n",
       "      <td>5</td>\n",
       "      <td>Normal</td>\n",
       "    </tr>\n",
       "    <tr>\n",
       "      <th>2</th>\n",
       "      <td>0</td>\n",
       "      <td>7</td>\n",
       "      <td>4</td>\n",
       "      <td>4</td>\n",
       "      <td>Good</td>\n",
       "    </tr>\n",
       "    <tr>\n",
       "      <th>3</th>\n",
       "      <td>7</td>\n",
       "      <td>2</td>\n",
       "      <td>3</td>\n",
       "      <td>3</td>\n",
       "      <td>NaN</td>\n",
       "    </tr>\n",
       "    <tr>\n",
       "      <th>4</th>\n",
       "      <td>3</td>\n",
       "      <td>2</td>\n",
       "      <td>2</td>\n",
       "      <td>4</td>\n",
       "      <td>NaN</td>\n",
       "    </tr>\n",
       "    <tr>\n",
       "      <th>...</th>\n",
       "      <td>...</td>\n",
       "      <td>...</td>\n",
       "      <td>...</td>\n",
       "      <td>...</td>\n",
       "      <td>...</td>\n",
       "    </tr>\n",
       "    <tr>\n",
       "      <th>98</th>\n",
       "      <td>6</td>\n",
       "      <td>10</td>\n",
       "      <td>5</td>\n",
       "      <td>4</td>\n",
       "      <td>NaN</td>\n",
       "    </tr>\n",
       "    <tr>\n",
       "      <th>99</th>\n",
       "      <td>2</td>\n",
       "      <td>2</td>\n",
       "      <td>0</td>\n",
       "      <td>1</td>\n",
       "      <td>NaN</td>\n",
       "    </tr>\n",
       "    <tr>\n",
       "      <th>100</th>\n",
       "      <td>2</td>\n",
       "      <td>10</td>\n",
       "      <td>3</td>\n",
       "      <td>3</td>\n",
       "      <td>NaN</td>\n",
       "    </tr>\n",
       "    <tr>\n",
       "      <th>101</th>\n",
       "      <td>9</td>\n",
       "      <td>9</td>\n",
       "      <td>5</td>\n",
       "      <td>2</td>\n",
       "      <td>NaN</td>\n",
       "    </tr>\n",
       "    <tr>\n",
       "      <th>102</th>\n",
       "      <td>6</td>\n",
       "      <td>1</td>\n",
       "      <td>1</td>\n",
       "      <td>1</td>\n",
       "      <td>NaN</td>\n",
       "    </tr>\n",
       "  </tbody>\n",
       "</table>\n",
       "<p>103 rows × 5 columns</p>\n",
       "</div>"
      ],
      "text/plain": [
       "     Work  School/Study  Leisure/Break  Chore  Rating\n",
       "0       3             7              4      3     Bad\n",
       "1       0             9              3      5  Normal\n",
       "2       0             7              4      4    Good\n",
       "3       7             2              3      3     NaN\n",
       "4       3             2              2      4     NaN\n",
       "..    ...           ...            ...    ...     ...\n",
       "98      6            10              5      4     NaN\n",
       "99      2             2              0      1     NaN\n",
       "100     2            10              3      3     NaN\n",
       "101     9             9              5      2     NaN\n",
       "102     6             1              1      1     NaN\n",
       "\n",
       "[103 rows x 5 columns]"
      ]
     },
     "execution_count": 3,
     "metadata": {},
     "output_type": "execute_result"
    }
   ],
   "source": [
    "df = df.drop(columns=['Date', 'Sleep'])\n",
    "df"
   ]
  },
  {
   "cell_type": "code",
   "execution_count": 33,
   "id": "b0531ec6-d4a3-4a1b-a252-69f577e3c1e1",
   "metadata": {},
   "outputs": [
    {
     "data": {
      "text/html": [
       "<div>\n",
       "<style scoped>\n",
       "    .dataframe tbody tr th:only-of-type {\n",
       "        vertical-align: middle;\n",
       "    }\n",
       "\n",
       "    .dataframe tbody tr th {\n",
       "        vertical-align: top;\n",
       "    }\n",
       "\n",
       "    .dataframe thead th {\n",
       "        text-align: right;\n",
       "    }\n",
       "</style>\n",
       "<table border=\"1\" class=\"dataframe\">\n",
       "  <thead>\n",
       "    <tr style=\"text-align: right;\">\n",
       "      <th></th>\n",
       "      <th>Work</th>\n",
       "      <th>School/Study</th>\n",
       "      <th>Leisure/Break</th>\n",
       "      <th>Chore</th>\n",
       "      <th>Performance Rating</th>\n",
       "      <th>Leisure Rating</th>\n",
       "      <th>Unnamed: 6</th>\n",
       "    </tr>\n",
       "  </thead>\n",
       "  <tbody>\n",
       "    <tr>\n",
       "      <th>0</th>\n",
       "      <td>3</td>\n",
       "      <td>7</td>\n",
       "      <td>4</td>\n",
       "      <td>3</td>\n",
       "      <td>3</td>\n",
       "      <td>1</td>\n",
       "      <td>NaN</td>\n",
       "    </tr>\n",
       "    <tr>\n",
       "      <th>1</th>\n",
       "      <td>0</td>\n",
       "      <td>9</td>\n",
       "      <td>3</td>\n",
       "      <td>5</td>\n",
       "      <td>2</td>\n",
       "      <td>1</td>\n",
       "      <td>NaN</td>\n",
       "    </tr>\n",
       "    <tr>\n",
       "      <th>2</th>\n",
       "      <td>0</td>\n",
       "      <td>7</td>\n",
       "      <td>4</td>\n",
       "      <td>4</td>\n",
       "      <td>2</td>\n",
       "      <td>2</td>\n",
       "      <td>NaN</td>\n",
       "    </tr>\n",
       "    <tr>\n",
       "      <th>3</th>\n",
       "      <td>7</td>\n",
       "      <td>2</td>\n",
       "      <td>3</td>\n",
       "      <td>3</td>\n",
       "      <td>3</td>\n",
       "      <td>2</td>\n",
       "      <td>NaN</td>\n",
       "    </tr>\n",
       "    <tr>\n",
       "      <th>4</th>\n",
       "      <td>3</td>\n",
       "      <td>2</td>\n",
       "      <td>2</td>\n",
       "      <td>4</td>\n",
       "      <td>1</td>\n",
       "      <td>2</td>\n",
       "      <td>NaN</td>\n",
       "    </tr>\n",
       "    <tr>\n",
       "      <th>...</th>\n",
       "      <td>...</td>\n",
       "      <td>...</td>\n",
       "      <td>...</td>\n",
       "      <td>...</td>\n",
       "      <td>...</td>\n",
       "      <td>...</td>\n",
       "      <td>...</td>\n",
       "    </tr>\n",
       "    <tr>\n",
       "      <th>96</th>\n",
       "      <td>6</td>\n",
       "      <td>10</td>\n",
       "      <td>5</td>\n",
       "      <td>4</td>\n",
       "      <td>0</td>\n",
       "      <td>0</td>\n",
       "      <td>NaN</td>\n",
       "    </tr>\n",
       "    <tr>\n",
       "      <th>97</th>\n",
       "      <td>2</td>\n",
       "      <td>2</td>\n",
       "      <td>0</td>\n",
       "      <td>1</td>\n",
       "      <td>0</td>\n",
       "      <td>0</td>\n",
       "      <td>NaN</td>\n",
       "    </tr>\n",
       "    <tr>\n",
       "      <th>98</th>\n",
       "      <td>2</td>\n",
       "      <td>10</td>\n",
       "      <td>3</td>\n",
       "      <td>3</td>\n",
       "      <td>2</td>\n",
       "      <td>0</td>\n",
       "      <td>NaN</td>\n",
       "    </tr>\n",
       "    <tr>\n",
       "      <th>99</th>\n",
       "      <td>9</td>\n",
       "      <td>9</td>\n",
       "      <td>5</td>\n",
       "      <td>2</td>\n",
       "      <td>0</td>\n",
       "      <td>0</td>\n",
       "      <td>NaN</td>\n",
       "    </tr>\n",
       "    <tr>\n",
       "      <th>100</th>\n",
       "      <td>6</td>\n",
       "      <td>1</td>\n",
       "      <td>1</td>\n",
       "      <td>1</td>\n",
       "      <td>2</td>\n",
       "      <td>1</td>\n",
       "      <td>NaN</td>\n",
       "    </tr>\n",
       "  </tbody>\n",
       "</table>\n",
       "<p>101 rows × 7 columns</p>\n",
       "</div>"
      ],
      "text/plain": [
       "     Work  School/Study  Leisure/Break  Chore  Performance Rating  \\\n",
       "0       3             7              4      3                   3   \n",
       "1       0             9              3      5                   2   \n",
       "2       0             7              4      4                   2   \n",
       "3       7             2              3      3                   3   \n",
       "4       3             2              2      4                   1   \n",
       "..    ...           ...            ...    ...                 ...   \n",
       "96      6            10              5      4                   0   \n",
       "97      2             2              0      1                   0   \n",
       "98      2            10              3      3                   2   \n",
       "99      9             9              5      2                   0   \n",
       "100     6             1              1      1                   2   \n",
       "\n",
       "     Leisure Rating  Unnamed: 6  \n",
       "0                 1         NaN  \n",
       "1                 1         NaN  \n",
       "2                 2         NaN  \n",
       "3                 2         NaN  \n",
       "4                 2         NaN  \n",
       "..              ...         ...  \n",
       "96                0         NaN  \n",
       "97                0         NaN  \n",
       "98                0         NaN  \n",
       "99                0         NaN  \n",
       "100               1         NaN  \n",
       "\n",
       "[101 rows x 7 columns]"
      ]
     },
     "execution_count": 33,
     "metadata": {},
     "output_type": "execute_result"
    }
   ],
   "source": [
    "df = pd.read_csv('daily_activity.csv')\n",
    "df"
   ]
  },
  {
   "cell_type": "code",
   "execution_count": 35,
   "id": "26747fbc-9d3e-4ee0-a8d6-e93be63c65c7",
   "metadata": {},
   "outputs": [
    {
     "name": "stdout",
     "output_type": "stream",
     "text": [
      "Work                    0\n",
      "School/Study            0\n",
      "Leisure/Break           0\n",
      "Chore                   0\n",
      "Performance Rating      0\n",
      "Leisure Rating          0\n",
      "Unnamed: 6            101\n",
      "dtype: int64\n"
     ]
    }
   ],
   "source": [
    "print(df.isnull().sum())"
   ]
  },
  {
   "cell_type": "code",
   "execution_count": 37,
   "id": "a29df2a3-7785-4542-97d5-cb5f938ffaff",
   "metadata": {},
   "outputs": [],
   "source": [
    "from sklearn.preprocessing import StandardScaler\n",
    "\n",
    "scaler = StandardScaler()\n",
    "X_scaled = scaler.fit_transform(df[['Work', 'School/Study', 'Leisure/Break', 'Chore']])"
   ]
  },
  {
   "cell_type": "code",
   "execution_count": 39,
   "id": "90616d21-a2ca-47bd-a2e4-351e545ee71b",
   "metadata": {},
   "outputs": [],
   "source": [
    "from sklearn.model_selection import train_test_split\n",
    "\n",
    "# Features\n",
    "X = df[['Work', 'School/Study', 'Leisure/Break', 'Chore']]\n",
    "\n",
    "# Targets\n",
    "y_performance = df['Performance Rating']\n",
    "y_leisure = df['Leisure Rating']\n",
    "\n",
    "# Train-test split\n",
    "X_train, X_test, y_performance_train, y_performance_test = train_test_split(X, y_performance, test_size=0.2, random_state=42)\n",
    "X_train, X_test, y_leisure_train, y_leisure_test = train_test_split(X, y_leisure, test_size=0.2, random_state=42)"
   ]
  },
  {
   "cell_type": "code",
   "execution_count": 50,
   "id": "66c80d1e-12ab-404c-8b25-b95d05f5d0ad",
   "metadata": {},
   "outputs": [
    {
     "name": "stdout",
     "output_type": "stream",
     "text": [
      "Performance Rating RMSE (RF): 0.7526777594188695\n",
      "Leisure Rating RMSE (RF): 0.6018226285131495\n"
     ]
    },
    {
     "name": "stderr",
     "output_type": "stream",
     "text": [
      "C:\\Users\\darel\\anaconda3\\Lib\\site-packages\\sklearn\\metrics\\_regression.py:492: FutureWarning: 'squared' is deprecated in version 1.4 and will be removed in 1.6. To calculate the root mean squared error, use the function'root_mean_squared_error'.\n",
      "  warnings.warn(\n",
      "C:\\Users\\darel\\anaconda3\\Lib\\site-packages\\sklearn\\metrics\\_regression.py:492: FutureWarning: 'squared' is deprecated in version 1.4 and will be removed in 1.6. To calculate the root mean squared error, use the function'root_mean_squared_error'.\n",
      "  warnings.warn(\n"
     ]
    }
   ],
   "source": [
    "from sklearn.ensemble import RandomForestRegressor\n",
    "from sklearn.metrics import mean_squared_error\n",
    "\n",
    "# Performance Rating Model\n",
    "rf_performance = RandomForestRegressor(random_state=42)\n",
    "rf_performance.fit(X_train, y_performance_train)\n",
    "\n",
    "# Predictions\n",
    "y_rf_performance_pred = rf_performance.predict(X_test)\n",
    "\n",
    "# Evaluate\n",
    "print(\"Performance Rating RMSE (RF):\", mean_squared_error(y_performance_test, y_rf_performance_pred, squared=False))\n",
    "\n",
    "# Leisure Rating Model\n",
    "rf_leisure = RandomForestRegressor(random_state=42)\n",
    "rf_leisure.fit(X_train, y_leisure_train)\n",
    "\n",
    "# Predictions\n",
    "y_rf_leisure_pred = rf_leisure.predict(X_test)\n",
    "\n",
    "# Evaluate\n",
    "print(\"Leisure Rating RMSE (RF):\", mean_squared_error(y_leisure_test, y_rf_leisure_pred, squared=False))"
   ]
  },
  {
   "cell_type": "code",
   "execution_count": 100,
   "id": "9d86a27d-73f1-4127-9ee3-147f0bd18c12",
   "metadata": {},
   "outputs": [
    {
     "name": "stdout",
     "output_type": "stream",
     "text": [
      "Predicted Performance Rating: 2.2696921063913855\n",
      "Predicted Leisure Rating: 1.7871012635756158\n"
     ]
    },
    {
     "name": "stderr",
     "output_type": "stream",
     "text": [
      "C:\\Users\\darel\\anaconda3\\Lib\\site-packages\\sklearn\\base.py:493: UserWarning: X does not have valid feature names, but LinearRegression was fitted with feature names\n",
      "  warnings.warn(\n",
      "C:\\Users\\darel\\anaconda3\\Lib\\site-packages\\sklearn\\base.py:493: UserWarning: X does not have valid feature names, but LinearRegression was fitted with feature names\n",
      "  warnings.warn(\n"
     ]
    }
   ],
   "source": [
    "new_data = [[0, 0, 0, 0]]  # Example input: Work, School/Study, Leisure/Break, Chore\n",
    "performance_rating = performance_model.predict(new_data)[0]\n",
    "leisure_rating = leisure_model.predict(new_data)[0]\n",
    "\n",
    "print(f\"Predicted Performance Rating: {performance_rating}\")\n",
    "print(f\"Predicted Leisure Rating: {leisure_rating}\")"
   ]
  },
  {
   "cell_type": "code",
   "execution_count": 275,
   "id": "172628ce-48bf-4e31-ba8c-f2a554fd0654",
   "metadata": {},
   "outputs": [],
   "source": [
    "from sklearn.model_selection import train_test_split\n",
    "from sklearn.metrics import accuracy_score\n",
    "\n",
    "# Features\n",
    "X = df[['Work', 'School/Study', 'Leisure/Break', 'Chore']]\n",
    "\n",
    "# Targets\n",
    "y_performance = df['Performance Rating']\n",
    "\n",
    "# Train-test split\n",
    "X_train, X_test, y_performance_train, y_performance_test = train_test_split(X, y_performance, test_size=0.4, random_state=42)"
   ]
  },
  {
   "cell_type": "code",
   "execution_count": 401,
   "id": "5602099a-7dff-4084-9b25-81f1ce2df9d3",
   "metadata": {},
   "outputs": [
    {
     "name": "stdout",
     "output_type": "stream",
     "text": [
      "Performance Rating RMSE (RF): 0.572724107425038\n"
     ]
    },
    {
     "name": "stderr",
     "output_type": "stream",
     "text": [
      "C:\\Users\\darel\\anaconda3\\Lib\\site-packages\\sklearn\\metrics\\_regression.py:492: FutureWarning: 'squared' is deprecated in version 1.4 and will be removed in 1.6. To calculate the root mean squared error, use the function'root_mean_squared_error'.\n",
      "  warnings.warn(\n"
     ]
    }
   ],
   "source": [
    "from sklearn.ensemble import RandomForestRegressor\n",
    "from sklearn.metrics import mean_squared_error\n",
    "from sklearn.model_selection import train_test_split\n",
    "import joblib\n",
    "\n",
    "# Features\n",
    "X = df[['Work', 'School/Study', 'Leisure/Break', 'Chore']]\n",
    "\n",
    "# Targets\n",
    "y_performance = df['Performance Rating']\n",
    "\n",
    "\n",
    "# Train-test split\n",
    "X_train, X_test, y_performance_train, y_performance_test = train_test_split(X, y_performance, test_size=0.3, random_state=35)\n",
    "\n",
    "# Performance Rating Model\n",
    "rf_performance = RandomForestRegressor(random_state=31)\n",
    "rf_performance.fit(X_train, y_performance_train)\n",
    "joblib.dump(rf_performance, 'model_rf_performance.pkl')\n",
    "\n",
    "# Predictions\n",
    "y_rf_performance_pred = rf_performance.predict(X_test)\n",
    "\n",
    "# Evaluate\n",
    "print(\"Performance Rating RMSE (RF):\", mean_squared_error(y_performance_test, y_rf_performance_pred, squared=False))"
   ]
  },
  {
   "cell_type": "code",
   "execution_count": 279,
   "id": "bdecf8bb-56c0-40d7-afa3-feffd48e0c32",
   "metadata": {},
   "outputs": [
    {
     "name": "stdout",
     "output_type": "stream",
     "text": [
      "Predicted Performance Rating: 2.63\n"
     ]
    },
    {
     "name": "stderr",
     "output_type": "stream",
     "text": [
      "C:\\Users\\darel\\anaconda3\\Lib\\site-packages\\sklearn\\base.py:493: UserWarning: X does not have valid feature names, but RandomForestRegressor was fitted with feature names\n",
      "  warnings.warn(\n"
     ]
    }
   ],
   "source": [
    "# Example input: Work, School/Study, Leisure/Break, Chore\n",
    "new_data = [[7, 4, 1, 2]]\n",
    "\n",
    "# Predict performance rating\n",
    "performance_rating = rf_performance.predict(new_data)[0]\n",
    "\n",
    "print(f\"Predicted Performance Rating: {performance_rating}\")"
   ]
  },
  {
   "cell_type": "code",
   "execution_count": 348,
   "id": "9635ad5f-2818-4b9b-adb6-671e476fb5b6",
   "metadata": {},
   "outputs": [
    {
     "name": "stdout",
     "output_type": "stream",
     "text": [
      "Leisure Rating RMSE (RF): 0.5390008823921462\n"
     ]
    },
    {
     "name": "stderr",
     "output_type": "stream",
     "text": [
      "C:\\Users\\darel\\anaconda3\\Lib\\site-packages\\sklearn\\metrics\\_regression.py:492: FutureWarning: 'squared' is deprecated in version 1.4 and will be removed in 1.6. To calculate the root mean squared error, use the function'root_mean_squared_error'.\n",
      "  warnings.warn(\n"
     ]
    }
   ],
   "source": [
    "from sklearn.model_selection import train_test_split\n",
    "from sklearn.ensemble import RandomForestRegressor\n",
    "from sklearn.metrics import mean_squared_error\n",
    "import joblib\n",
    "\n",
    "# Features\n",
    "X = df[['Work', 'School/Study', 'Leisure/Break', 'Chore']]\n",
    "\n",
    "# Targets\n",
    "y_leisure = df['Leisure Rating']\n",
    "\n",
    "# Train-test split\n",
    "X_train, X_test, y_leisure_train, y_leisure_test = train_test_split(X, y_leisure, test_size=0.4, random_state=37)\n",
    "\n",
    "# Leisure Rating Model\n",
    "rf_leisure = RandomForestRegressor(random_state=39)\n",
    "rf_leisure.fit(X_train, y_leisure_train)\n",
    "joblib.dump(rf_leisure, 'model_rf_leisure.pkl')\n",
    "\n",
    "# Predictions\n",
    "y_rf_leisure_pred = rf_leisure.predict(X_test)\n",
    "\n",
    "# Evaluate\n",
    "print(\"Leisure Rating RMSE (RF):\", mean_squared_error(y_leisure_test, y_rf_leisure_pred, squared=False))"
   ]
  },
  {
   "cell_type": "code",
   "execution_count": 335,
   "id": "3c4a50e6-bc18-4462-bd9a-8637f1fb0256",
   "metadata": {},
   "outputs": [
    {
     "name": "stdout",
     "output_type": "stream",
     "text": [
      "Predicted Performance Rating: 2.52\n"
     ]
    },
    {
     "name": "stderr",
     "output_type": "stream",
     "text": [
      "C:\\Users\\darel\\anaconda3\\Lib\\site-packages\\sklearn\\base.py:493: UserWarning: X does not have valid feature names, but RandomForestRegressor was fitted with feature names\n",
      "  warnings.warn(\n"
     ]
    }
   ],
   "source": [
    "# Example input: Work, School/Study, Leisure/Break, Chore\n",
    "new_data = [[0, 4, 5, 3]]\n",
    "\n",
    "# Predict performance rating\n",
    "leisure_rating = rf_leisure.predict(new_data)[0]\n",
    "\n",
    "print(f\"Predicted Performance Rating: {leisure_rating}\")"
   ]
  },
  {
   "cell_type": "code",
   "execution_count": 407,
   "id": "09297c22-7bfb-484a-96d4-0720e761b537",
   "metadata": {},
   "outputs": [
    {
     "name": "stderr",
     "output_type": "stream",
     "text": [
      "C:\\Users\\darel\\anaconda3\\Lib\\site-packages\\sklearn\\base.py:493: UserWarning: X does not have valid feature names, but RandomForestRegressor was fitted with feature names\n",
      "  warnings.warn(\n"
     ]
    },
    {
     "data": {
      "text/plain": [
       "array([0.73])"
      ]
     },
     "execution_count": 407,
     "metadata": {},
     "output_type": "execute_result"
    }
   ],
   "source": [
    "leisure_model = joblib.load('model_rf_leisure.pkl')\n",
    "predi = leisure_model.predict([[7, 4, 2, 2]])\n",
    "predi"
   ]
  },
  {
   "cell_type": "code",
   "execution_count": 405,
   "id": "9ddf46fe-7b96-4e1c-932e-7e2219408fd0",
   "metadata": {},
   "outputs": [
    {
     "name": "stderr",
     "output_type": "stream",
     "text": [
      "C:\\Users\\darel\\anaconda3\\Lib\\site-packages\\sklearn\\base.py:493: UserWarning: X does not have valid feature names, but RandomForestRegressor was fitted with feature names\n",
      "  warnings.warn(\n"
     ]
    },
    {
     "data": {
      "text/plain": [
       "array([2.27])"
      ]
     },
     "execution_count": 405,
     "metadata": {},
     "output_type": "execute_result"
    }
   ],
   "source": [
    "performance_model = joblib.load('model_rf_performance.pkl')\n",
    "predi1 = performance_model.predict([[7, 4, 2, 2]])\n",
    "predi1"
   ]
  },
  {
   "cell_type": "code",
   "execution_count": null,
   "id": "1179e231-e066-42ea-9f11-91bf77cfb30d",
   "metadata": {},
   "outputs": [],
   "source": []
  }
 ],
 "metadata": {
  "kernelspec": {
   "display_name": "Python 3 (ipykernel)",
   "language": "python",
   "name": "python3"
  },
  "language_info": {
   "codemirror_mode": {
    "name": "ipython",
    "version": 3
   },
   "file_extension": ".py",
   "mimetype": "text/x-python",
   "name": "python",
   "nbconvert_exporter": "python",
   "pygments_lexer": "ipython3",
   "version": "3.12.4"
  }
 },
 "nbformat": 4,
 "nbformat_minor": 5
}
