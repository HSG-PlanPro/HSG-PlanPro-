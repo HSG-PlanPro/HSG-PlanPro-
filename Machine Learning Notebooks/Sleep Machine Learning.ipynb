{
 "cells": [
  {
   "cell_type": "code",
   "execution_count": 154,
   "id": "d1b574f1-6205-49a9-9347-979c21ab567f",
   "metadata": {},
   "outputs": [],
   "source": [
    "import pandas as pd\n",
    "import os\n",
    "import numpy as np\n",
    "import matplotlib.pyplot as plt"
   ]
  },
  {
   "cell_type": "code",
   "execution_count": 90,
   "id": "d2ef170b-1d84-48f7-8957-cc927ba83465",
   "metadata": {},
   "outputs": [],
   "source": [
    "initial_data = {\n",
    "    \"Date\": [\"2024-11-20\", \"2024-11-21\", \"2024-11-22\"],\n",
    "    \"Work\": [3, 0, 0],\n",
    "    \"School/Study\": [7, 9, 7],\n",
    "    \"Leisure/Break\": [4, 3, 4],\n",
    "    \"Chore\": [3, 5, 4],\n",
    "    \"Sleep\": [5, 7, 9],\n",
    "    \"Rating\": [\"Bad\", \"Normal\", \"Good\"]  # Labels for days\n",
    "}"
   ]
  },
  {
   "cell_type": "code",
   "execution_count": 92,
   "id": "ef7eb152-c150-41a0-abf3-f19508d91b2c",
   "metadata": {},
   "outputs": [
    {
     "name": "stdout",
     "output_type": "stream",
     "text": [
      "daily_activity.csv created successfully!\n"
     ]
    }
   ],
   "source": [
    "file_name = \"daily_activity.csv\"\n",
    "\n",
    "# Check if the file exists\n",
    "if not os.path.exists(file_name):\n",
    "    # Create a DataFrame from the data\n",
    "    df = pd.DataFrame(initial_data)\n",
    "    \n",
    "    # Save it to a CSV file\n",
    "    df.to_csv(file_name, index=False)\n",
    "    print(f\"{file_name} created successfully!\")\n",
    "else:\n",
    "    print(f\"{file_name} already exists.\")"
   ]
  },
  {
   "cell_type": "code",
   "execution_count": 94,
   "id": "6b025a28-715f-4f50-a926-efc5bedca4e4",
   "metadata": {},
   "outputs": [
    {
     "name": "stdout",
     "output_type": "stream",
     "text": [
      "         Date  Work  School/Study  Leisure/Break  Chore  Sleep  Rating\n",
      "0  2024-11-20     3             7              4      3      5     Bad\n",
      "1  2024-11-21     0             9              3      5      7  Normal\n",
      "2  2024-11-22     0             7              4      4      9    Good\n"
     ]
    }
   ],
   "source": [
    "df = pd.read_csv('daily_activity.csv')\n",
    "print(df)"
   ]
  },
  {
   "cell_type": "code",
   "execution_count": null,
   "id": "fcba6c76-face-4818-b586-96e4bcf7f10d",
   "metadata": {},
   "outputs": [],
   "source": []
  },
  {
   "cell_type": "code",
   "execution_count": 97,
   "id": "5b72ca4b-4167-48bd-9f07-8dce5771ab33",
   "metadata": {},
   "outputs": [
    {
     "name": "stdout",
     "output_type": "stream",
     "text": [
      "Data appended successfully.\n",
      "           Date  Work  School/Study  Leisure/Break  Chore  Sleep  Rating\n",
      "0    2024-11-20     3             7              4      3      5     Bad\n",
      "1    2024-11-21     0             9              3      5      7  Normal\n",
      "2    2024-11-22     0             7              4      4      9    Good\n",
      "3    2024-11-19     7             2              3      3      4     NaN\n",
      "4    2024-11-18     3             2              2      4      8     NaN\n",
      "..          ...   ...           ...            ...    ...    ...     ...\n",
      "98   2024-08-16     6            10              5      4      6     NaN\n",
      "99   2024-08-15     2             2              0      1      5     NaN\n",
      "100  2024-08-14     2            10              3      3      9     NaN\n",
      "101  2024-08-13     9             9              5      2      7     NaN\n",
      "102  2024-08-12     6             1              1      1     10     NaN\n",
      "\n",
      "[103 rows x 7 columns]\n"
     ]
    }
   ],
   "source": [
    "import pandas as pd\n",
    "import numpy as np\n",
    "\n",
    "# Load existing daily activity data\n",
    "df_existing = pd.read_csv('daily_activity.csv')\n",
    "\n",
    "# Generate new random data\n",
    "num_new_days = 100  # Number of new days\n",
    "new_data = {\n",
    "    \"Date\": pd.date_range(start=\"2024-11-19\", periods=num_new_days, freq='-1D').strftime(\"%Y-%m-%d\").tolist(),\n",
    "    \"Work\": np.random.randint(0, 11, num_new_days),  # 0-10 hours\n",
    "    \"School/Study\": np.random.randint(0, 11, num_new_days),  # 0-10 hours\n",
    "    \"Leisure/Break\": np.random.randint(0, 6, num_new_days),  # 0-5 hours\n",
    "    \"Chore\": np.random.randint(0, 5, num_new_days),  # 0-4 hours\n",
    "    \"Sleep\": np.random.randint(4, 11, num_new_days),  # 4-10 hours\n",
    "    \"Rating\": [np.nan] * num_new_days  # Add an empty 'Rating' column (NaN)\n",
    "}\n",
    "\n",
    "# Convert to DataFrame\n",
    "df_new = pd.DataFrame(new_data)\n",
    "\n",
    "# Append new data to existing data\n",
    "df_combined = pd.concat([df_existing, df_new], ignore_index=True)\n",
    "\n",
    "# Save to CSV\n",
    "df_combined.to_csv(\"daily_activity.csv\", index=False)\n",
    "\n",
    "print(\"Data appended successfully.\")\n",
    "print(df_combined)\n"
   ]
  },
  {
   "cell_type": "code",
   "execution_count": 104,
   "id": "719fcfb9-c5fd-4327-ae20-e4b9302816be",
   "metadata": {},
   "outputs": [
    {
     "name": "stdout",
     "output_type": "stream",
     "text": [
      "           Date  Work  School/Study  Leisure/Break  Chore  Sleep  Rating\n",
      "0    2024-11-20     3             7              4      3      5     Bad\n",
      "1    2024-11-21     0             9              3      5      7  Normal\n",
      "2    2024-11-22     0             7              4      4      9    Good\n",
      "3    2024-11-19     7             2              3      3      4     NaN\n",
      "4    2024-11-18     3             2              2      4      8     NaN\n",
      "..          ...   ...           ...            ...    ...    ...     ...\n",
      "98   2024-08-16     6            10              5      4      6     NaN\n",
      "99   2024-08-15     2             2              0      1      5     NaN\n",
      "100  2024-08-14     2            10              3      3      9     NaN\n",
      "101  2024-08-13     9             9              5      2      7     NaN\n",
      "102  2024-08-12     6             1              1      1     10     NaN\n",
      "\n",
      "[103 rows x 7 columns]\n"
     ]
    }
   ],
   "source": [
    "df = pd.read_csv('daily_activity.csv')\n",
    "print(df)"
   ]
  },
  {
   "cell_type": "code",
   "execution_count": 106,
   "id": "de5101d6-6a75-4055-bd2a-49bf9601acde",
   "metadata": {},
   "outputs": [
    {
     "name": "stdout",
     "output_type": "stream",
     "text": [
      "              precision    recall  f1-score   support\n",
      "\n",
      "         Bad       0.00      0.00      0.00       1.0\n",
      "        Good       0.00      0.00      0.00       0.0\n",
      "\n",
      "    accuracy                           0.00       1.0\n",
      "   macro avg       0.00      0.00      0.00       1.0\n",
      "weighted avg       0.00      0.00      0.00       1.0\n",
      "\n"
     ]
    },
    {
     "name": "stderr",
     "output_type": "stream",
     "text": [
      "C:\\Users\\darel\\anaconda3\\Lib\\site-packages\\sklearn\\metrics\\_classification.py:1509: UndefinedMetricWarning: Precision is ill-defined and being set to 0.0 in labels with no predicted samples. Use `zero_division` parameter to control this behavior.\n",
      "  _warn_prf(average, modifier, f\"{metric.capitalize()} is\", len(result))\n",
      "C:\\Users\\darel\\anaconda3\\Lib\\site-packages\\sklearn\\metrics\\_classification.py:1509: UndefinedMetricWarning: Recall is ill-defined and being set to 0.0 in labels with no true samples. Use `zero_division` parameter to control this behavior.\n",
      "  _warn_prf(average, modifier, f\"{metric.capitalize()} is\", len(result))\n",
      "C:\\Users\\darel\\anaconda3\\Lib\\site-packages\\sklearn\\metrics\\_classification.py:1509: UndefinedMetricWarning: Precision is ill-defined and being set to 0.0 in labels with no predicted samples. Use `zero_division` parameter to control this behavior.\n",
      "  _warn_prf(average, modifier, f\"{metric.capitalize()} is\", len(result))\n",
      "C:\\Users\\darel\\anaconda3\\Lib\\site-packages\\sklearn\\metrics\\_classification.py:1509: UndefinedMetricWarning: Recall is ill-defined and being set to 0.0 in labels with no true samples. Use `zero_division` parameter to control this behavior.\n",
      "  _warn_prf(average, modifier, f\"{metric.capitalize()} is\", len(result))\n",
      "C:\\Users\\darel\\anaconda3\\Lib\\site-packages\\sklearn\\metrics\\_classification.py:1509: UndefinedMetricWarning: Precision is ill-defined and being set to 0.0 in labels with no predicted samples. Use `zero_division` parameter to control this behavior.\n",
      "  _warn_prf(average, modifier, f\"{metric.capitalize()} is\", len(result))\n",
      "C:\\Users\\darel\\anaconda3\\Lib\\site-packages\\sklearn\\metrics\\_classification.py:1509: UndefinedMetricWarning: Recall is ill-defined and being set to 0.0 in labels with no true samples. Use `zero_division` parameter to control this behavior.\n",
      "  _warn_prf(average, modifier, f\"{metric.capitalize()} is\", len(result))\n"
     ]
    },
    {
     "data": {
      "text/plain": [
       "['day_rating_model.pkl']"
      ]
     },
     "execution_count": 106,
     "metadata": {},
     "output_type": "execute_result"
    }
   ],
   "source": [
    "from sklearn.model_selection import train_test_split\n",
    "from sklearn.ensemble import RandomForestClassifier\n",
    "from sklearn.metrics import classification_report\n",
    "import pandas as pd\n",
    "\n",
    "# Load labeled data\n",
    "df = pd.read_csv(\"daily_activity.csv\")\n",
    "df = df.dropna()\n",
    "\n",
    "# Features and target\n",
    "X = df[[\"Work\", \"School/Study\", \"Leisure/Break\", \"Chore\", \"Sleep\"]]  # Features\n",
    "y = df[\"Rating\"]  # Target\n",
    "\n",
    "# Split data into training and testing sets\n",
    "X_train, X_test, y_train, y_test = train_test_split(X, y, test_size=0.2, random_state=42)\n",
    "\n",
    "# Train Random Forest Classifier\n",
    "model = RandomForestClassifier(random_state=42)\n",
    "model.fit(X_train, y_train)\n",
    "\n",
    "# Evaluate the model\n",
    "y_pred = model.predict(X_test)\n",
    "print(classification_report(y_test, y_pred))\n",
    "\n",
    "# Save the model (optional)\n",
    "import joblib\n",
    "joblib.dump(model, \"day_rating_model.pkl\")"
   ]
  },
  {
   "cell_type": "code",
   "execution_count": 134,
   "id": "b24fa73c-03de-4631-80e0-0b051464c583",
   "metadata": {},
   "outputs": [
    {
     "name": "stdout",
     "output_type": "stream",
     "text": [
      "     Person ID  Gender  Age            Occupation  Sleep Duration  \\\n",
      "0            1    Male   27     Software Engineer             6.1   \n",
      "1            2    Male   28                Doctor             6.2   \n",
      "2            3    Male   28                Doctor             6.2   \n",
      "3            4    Male   28  Sales Representative             5.9   \n",
      "4            5    Male   28  Sales Representative             5.9   \n",
      "..         ...     ...  ...                   ...             ...   \n",
      "369        370  Female   59                 Nurse             8.1   \n",
      "370        371  Female   59                 Nurse             8.0   \n",
      "371        372  Female   59                 Nurse             8.1   \n",
      "372        373  Female   59                 Nurse             8.1   \n",
      "373        374  Female   59                 Nurse             8.1   \n",
      "\n",
      "     Quality of Sleep  Physical Activity Level  Stress Level BMI Category  \\\n",
      "0                   6                       42             6   Overweight   \n",
      "1                   6                       60             8       Normal   \n",
      "2                   6                       60             8       Normal   \n",
      "3                   4                       30             8        Obese   \n",
      "4                   4                       30             8        Obese   \n",
      "..                ...                      ...           ...          ...   \n",
      "369                 9                       75             3   Overweight   \n",
      "370                 9                       75             3   Overweight   \n",
      "371                 9                       75             3   Overweight   \n",
      "372                 9                       75             3   Overweight   \n",
      "373                 9                       75             3   Overweight   \n",
      "\n",
      "    Blood Pressure  Heart Rate  Daily Steps Sleep Disorder  \n",
      "0           126/83          77         4200            NaN  \n",
      "1           125/80          75        10000            NaN  \n",
      "2           125/80          75        10000            NaN  \n",
      "3           140/90          85         3000    Sleep Apnea  \n",
      "4           140/90          85         3000    Sleep Apnea  \n",
      "..             ...         ...          ...            ...  \n",
      "369         140/95          68         7000    Sleep Apnea  \n",
      "370         140/95          68         7000    Sleep Apnea  \n",
      "371         140/95          68         7000    Sleep Apnea  \n",
      "372         140/95          68         7000    Sleep Apnea  \n",
      "373         140/95          68         7000    Sleep Apnea  \n",
      "\n",
      "[374 rows x 13 columns]\n"
     ]
    }
   ],
   "source": [
    "df = pd.read_csv('sleep_health.csv')\n",
    "print(df)"
   ]
  },
  {
   "cell_type": "code",
   "execution_count": 172,
   "id": "df07e0fe-35a8-4810-be01-9d560739ec74",
   "metadata": {},
   "outputs": [],
   "source": [
    "df1 = df.drop(columns=['Blood Pressure', 'Heart Rate', 'Sleep Disorder', 'Occupation', 'Stress Level', 'Person ID', 'Physical Activity Level'])\n",
    "df1.to_csv(\"sleep_data.csv\", index=False)"
   ]
  },
  {
   "cell_type": "code",
   "execution_count": 176,
   "id": "cfcde862-0177-46d0-bc85-201b2724435b",
   "metadata": {},
   "outputs": [
    {
     "data": {
      "text/html": [
       "<div>\n",
       "<style scoped>\n",
       "    .dataframe tbody tr th:only-of-type {\n",
       "        vertical-align: middle;\n",
       "    }\n",
       "\n",
       "    .dataframe tbody tr th {\n",
       "        vertical-align: top;\n",
       "    }\n",
       "\n",
       "    .dataframe thead th {\n",
       "        text-align: right;\n",
       "    }\n",
       "</style>\n",
       "<table border=\"1\" class=\"dataframe\">\n",
       "  <thead>\n",
       "    <tr style=\"text-align: right;\">\n",
       "      <th></th>\n",
       "      <th>Gender</th>\n",
       "      <th>Age</th>\n",
       "      <th>Sleep Duration</th>\n",
       "      <th>Quality of Sleep</th>\n",
       "      <th>BMI Category</th>\n",
       "      <th>Daily Steps</th>\n",
       "    </tr>\n",
       "  </thead>\n",
       "  <tbody>\n",
       "    <tr>\n",
       "      <th>0</th>\n",
       "      <td>Male</td>\n",
       "      <td>27</td>\n",
       "      <td>6.1</td>\n",
       "      <td>6</td>\n",
       "      <td>Overweight</td>\n",
       "      <td>4200</td>\n",
       "    </tr>\n",
       "    <tr>\n",
       "      <th>1</th>\n",
       "      <td>Male</td>\n",
       "      <td>28</td>\n",
       "      <td>6.2</td>\n",
       "      <td>6</td>\n",
       "      <td>Normal</td>\n",
       "      <td>10000</td>\n",
       "    </tr>\n",
       "    <tr>\n",
       "      <th>2</th>\n",
       "      <td>Male</td>\n",
       "      <td>28</td>\n",
       "      <td>6.2</td>\n",
       "      <td>6</td>\n",
       "      <td>Normal</td>\n",
       "      <td>10000</td>\n",
       "    </tr>\n",
       "    <tr>\n",
       "      <th>3</th>\n",
       "      <td>Male</td>\n",
       "      <td>28</td>\n",
       "      <td>5.9</td>\n",
       "      <td>4</td>\n",
       "      <td>Obese</td>\n",
       "      <td>3000</td>\n",
       "    </tr>\n",
       "    <tr>\n",
       "      <th>4</th>\n",
       "      <td>Male</td>\n",
       "      <td>28</td>\n",
       "      <td>5.9</td>\n",
       "      <td>4</td>\n",
       "      <td>Obese</td>\n",
       "      <td>3000</td>\n",
       "    </tr>\n",
       "    <tr>\n",
       "      <th>...</th>\n",
       "      <td>...</td>\n",
       "      <td>...</td>\n",
       "      <td>...</td>\n",
       "      <td>...</td>\n",
       "      <td>...</td>\n",
       "      <td>...</td>\n",
       "    </tr>\n",
       "    <tr>\n",
       "      <th>369</th>\n",
       "      <td>Female</td>\n",
       "      <td>59</td>\n",
       "      <td>8.1</td>\n",
       "      <td>9</td>\n",
       "      <td>Overweight</td>\n",
       "      <td>7000</td>\n",
       "    </tr>\n",
       "    <tr>\n",
       "      <th>370</th>\n",
       "      <td>Female</td>\n",
       "      <td>59</td>\n",
       "      <td>8.0</td>\n",
       "      <td>9</td>\n",
       "      <td>Overweight</td>\n",
       "      <td>7000</td>\n",
       "    </tr>\n",
       "    <tr>\n",
       "      <th>371</th>\n",
       "      <td>Female</td>\n",
       "      <td>59</td>\n",
       "      <td>8.1</td>\n",
       "      <td>9</td>\n",
       "      <td>Overweight</td>\n",
       "      <td>7000</td>\n",
       "    </tr>\n",
       "    <tr>\n",
       "      <th>372</th>\n",
       "      <td>Female</td>\n",
       "      <td>59</td>\n",
       "      <td>8.1</td>\n",
       "      <td>9</td>\n",
       "      <td>Overweight</td>\n",
       "      <td>7000</td>\n",
       "    </tr>\n",
       "    <tr>\n",
       "      <th>373</th>\n",
       "      <td>Female</td>\n",
       "      <td>59</td>\n",
       "      <td>8.1</td>\n",
       "      <td>9</td>\n",
       "      <td>Overweight</td>\n",
       "      <td>7000</td>\n",
       "    </tr>\n",
       "  </tbody>\n",
       "</table>\n",
       "<p>374 rows × 6 columns</p>\n",
       "</div>"
      ],
      "text/plain": [
       "     Gender  Age  Sleep Duration  Quality of Sleep BMI Category  Daily Steps\n",
       "0      Male   27             6.1                 6   Overweight         4200\n",
       "1      Male   28             6.2                 6       Normal        10000\n",
       "2      Male   28             6.2                 6       Normal        10000\n",
       "3      Male   28             5.9                 4        Obese         3000\n",
       "4      Male   28             5.9                 4        Obese         3000\n",
       "..      ...  ...             ...               ...          ...          ...\n",
       "369  Female   59             8.1                 9   Overweight         7000\n",
       "370  Female   59             8.0                 9   Overweight         7000\n",
       "371  Female   59             8.1                 9   Overweight         7000\n",
       "372  Female   59             8.1                 9   Overweight         7000\n",
       "373  Female   59             8.1                 9   Overweight         7000\n",
       "\n",
       "[374 rows x 6 columns]"
      ]
     },
     "execution_count": 176,
     "metadata": {},
     "output_type": "execute_result"
    }
   ],
   "source": [
    "df1 = pd.read_csv('sleep_data.csv')\n",
    "df1"
   ]
  },
  {
   "cell_type": "code",
   "execution_count": 232,
   "id": "bf0148df-dc5e-4cc0-bbb7-126b0cd5c1f6",
   "metadata": {},
   "outputs": [
    {
     "data": {
      "text/plain": [
       "['scaler.pkl']"
      ]
     },
     "execution_count": 232,
     "metadata": {},
     "output_type": "execute_result"
    }
   ],
   "source": [
    "from sklearn.preprocessing import LabelEncoder, StandardScaler\n",
    "\n",
    "# Encode categorical columns\n",
    "df1['Gender'] = LabelEncoder().fit_transform(df1['Gender'])\n",
    "df1['BMI Category'] = LabelEncoder().fit_transform(df1['BMI Category'])\n",
    "\n",
    "# Scale numerical columns\n",
    "numerical_columns = ['Age', 'Sleep Duration', 'Daily Steps']\n",
    "scaler = StandardScaler()\n",
    "df1[numerical_columns] = scaler.fit_transform(df1[numerical_columns])\n",
    "\n",
    "#Dump the fitted scaler\n",
    "joblib.dump(scaler, 'scaler.pkl')"
   ]
  },
  {
   "cell_type": "code",
   "execution_count": 194,
   "id": "3ba76690-1701-4aca-9359-dd5ecee7f12b",
   "metadata": {},
   "outputs": [],
   "source": [
    "from sklearn.model_selection import train_test_split\n",
    "\n",
    "X = df1.drop(columns=['Quality of Sleep'])  # Features\n",
    "y = df1['Quality of Sleep']  # Target\n",
    "\n",
    "X_train, X_test, y_train, y_test = train_test_split(X, y, test_size=0.2, random_state=42)"
   ]
  },
  {
   "cell_type": "code",
   "execution_count": 196,
   "id": "b40ffd66-523c-4dc1-9154-bebcb5204d12",
   "metadata": {},
   "outputs": [
    {
     "name": "stdout",
     "output_type": "stream",
     "text": [
      "Mean Squared Error: 0.02068\n"
     ]
    }
   ],
   "source": [
    "from sklearn.ensemble import RandomForestRegressor\n",
    "from sklearn.metrics import mean_squared_error\n",
    "\n",
    "# Train the model\n",
    "model = RandomForestRegressor(random_state=42)\n",
    "model.fit(X_train, y_train)\n",
    "\n",
    "# Test the model\n",
    "predictions = model.predict(X_test)\n",
    "mse = mean_squared_error(y_test, predictions)\n",
    "print(f\"Mean Squared Error: {mse}\")"
   ]
  },
  {
   "cell_type": "code",
   "execution_count": 230,
   "id": "cf80bb78-656c-414a-8ce9-2f036c389d36",
   "metadata": {},
   "outputs": [
    {
     "data": {
      "text/plain": [
       "['sleep_quality_model.pkl']"
      ]
     },
     "execution_count": 230,
     "metadata": {},
     "output_type": "execute_result"
    }
   ],
   "source": [
    "import joblib\n",
    "joblib.dump(model, 'sleep_quality_model.pkl')"
   ]
  },
  {
   "cell_type": "code",
   "execution_count": 220,
   "id": "4409a1f2-4978-4e94-a183-60cadfd34be5",
   "metadata": {},
   "outputs": [
    {
     "name": "stdout",
     "output_type": "stream",
     "text": [
      "Mean Squared Error: 0.02068\n",
      "Mean Absolute Error: 0.046666666666666655\n",
      "R² Score: 0.9862921282111713\n"
     ]
    },
    {
     "data": {
      "image/png": "[encoded data removed]",
      "text/plain": [
       "<Figure size 800x600 with 1 Axes>"
      ]
     },
     "metadata": {},
     "output_type": "display_data"
    }
   ],
   "source": [
    "from sklearn.metrics import mean_absolute_error, r2_score\n",
    "\n",
    "# Calculate additional metrics\n",
    "mae = mean_absolute_error(y_test, predictions)\n",
    "r2 = r2_score(y_test, predictions)\n",
    "\n",
    "print(f\"Mean Squared Error: {mse}\")\n",
    "print(f\"Mean Absolute Error: {mae}\")\n",
    "print(f\"R² Score: {r2}\")\n",
    "plt.figure(figsize=(8, 6))\n",
    "plt.scatter(y_test, predictions, alpha=0.6)\n",
    "plt.plot([min(y_test), max(y_test)], [min(y_test), max(y_test)], color='red', linestyle='--')  # Ideal line\n",
    "plt.title('Predicted vs Actual Quality of Sleep')\n",
    "plt.xlabel('Actual Quality of Sleep')\n",
    "plt.ylabel('Predicted Quality of Sleep')\n",
    "plt.show()"
   ]
  },
  {
   "cell_type": "code",
   "execution_count": 228,
   "id": "dfe73406-bd5b-4e98-a896-ecdd3ba9c3bc",
   "metadata": {},
   "outputs": [
    {
     "data": {
      "image/png": "[encoded data removed]",
      "text/plain": [
       "<Figure size 1000x600 with 1 Axes>"
      ]
     },
     "metadata": {},
     "output_type": "display_data"
    }
   ],
   "source": [
    "# Get feature importances\n",
    "import seaborn as sns\n",
    "importances = model.feature_importances_\n",
    "features = X.columns\n",
    "\n",
    "# Plot feature importances\n",
    "plt.figure(figsize=(10, 6))\n",
    "sns.barplot(x=importances, y=features)\n",
    "plt.title('Feature Importances')\n",
    "plt.xlabel('Importance Score')\n",
    "plt.ylabel('Features')\n",
    "plt.show()"
   ]
  },
  {
   "cell_type": "code",
   "execution_count": 206,
   "id": "a955984b-fc48-4ee6-a4fc-52d1fdc1b0af",
   "metadata": {},
   "outputs": [
    {
     "data": {
      "image/png": "[encoded data removed]",
      "text/plain": [
       "<Figure size 800x600 with 1 Axes>"
      ]
     },
     "metadata": {},
     "output_type": "display_data"
    }
   ],
   "source": [
    "import matplotlib.pyplot as plt\n",
    "import pandas as pd\n",
    "\n",
    "# Assuming 'model' is your trained Random Forest model\n",
    "feature_importances = model.feature_importances_\n",
    "features = X.columns  # Feature names\n",
    "\n",
    "# Create a DataFrame for better visualization\n",
    "importance_df = pd.DataFrame({'Feature': features, 'Importance': feature_importances})\n",
    "importance_df = importance_df.sort_values(by='Importance', ascending=False)\n",
    "\n",
    "# Plot\n",
    "plt.figure(figsize=(8, 6))\n",
    "plt.barh(importance_df['Feature'], importance_df['Importance'], color='skyblue')\n",
    "plt.xlabel('Importance')\n",
    "plt.ylabel('Features')\n",
    "plt.title('Feature Importance')\n",
    "plt.gca().invert_yaxis()  # Flip for better readability\n",
    "plt.show()\n"
   ]
  },
  {
   "cell_type": "code",
   "execution_count": 212,
   "id": "4c22259d-4a76-449c-acbc-447f1f537e6b",
   "metadata": {},
   "outputs": [
    {
     "data": {
      "image/png": "[encoded data removed]",
      "text/plain": [
       "<Figure size 640x480 with 6 Axes>"
      ]
     },
     "metadata": {},
     "output_type": "display_data"
    }
   ],
   "source": [
    "from sklearn.inspection import PartialDependenceDisplay\n",
    "\n",
    "# Visualize the effect of 'Sleep Duration' and 'Physical Activity Level'\n",
    "PartialDependenceDisplay.from_estimator(model, X, ['Sleep Duration', 'Age', 'Daily Steps', 'Gender', 'BMI Category'])\n",
    "plt.show()"
   ]
  },
  {
   "cell_type": "code",
   "execution_count": 214,
   "id": "dfd90102-89ba-4315-9b25-d45d27604774",
   "metadata": {},
   "outputs": [
    {
     "data": {
      "image/png": "[encoded data removed]",
      "text/plain": [
       "<Figure size 800x600 with 1 Axes>"
      ]
     },
     "metadata": {},
     "output_type": "display_data"
    }
   ],
   "source": [
    "import matplotlib.pyplot as plt\n",
    "\n",
    "# Plot histogram\n",
    "plt.figure(figsize=(8, 6))\n",
    "plt.hist(df1['Quality of Sleep'], bins=10, edgecolor='black', alpha=0.7)\n",
    "plt.title('Distribution of Sleep Quality')\n",
    "plt.xlabel('Quality of Sleep')\n",
    "plt.ylabel('Frequency')\n",
    "plt.show()"
   ]
  },
  {
   "cell_type": "code",
   "execution_count": 234,
   "id": "6b85f3c3-8ede-4dc2-83c0-8ecd6e98ea00",
   "metadata": {},
   "outputs": [
    {
     "name": "stdout",
     "output_type": "stream",
     "text": [
      "Mean Squared Error: 0.02068\n"
     ]
    }
   ],
   "source": [
    "from sklearn.preprocessing import LabelEncoder, StandardScaler\n",
    "import joblib\n",
    "from sklearn.model_selection import train_test_split\n",
    "from sklearn.ensemble import RandomForestRegressor\n",
    "from sklearn.metrics import mean_squared_error\n",
    "df1 = pd.read_csv('sleep_data.csv')\n",
    "\n",
    "# Encode categorical columns\n",
    "df1['Gender'] = LabelEncoder().fit_transform(df1['Gender'])\n",
    "df1['BMI Category'] = LabelEncoder().fit_transform(df1['BMI Category'])\n",
    "\n",
    "# Scale numerical columns\n",
    "numerical_columns = ['Age', 'Sleep Duration', 'Daily Steps']\n",
    "scaler = StandardScaler()\n",
    "df1[numerical_columns] = scaler.fit_transform(df1[numerical_columns])\n",
    "\n",
    "#Dump the fitted scaler\n",
    "#joblib.dump(scaler, 'scaler.pkl')\n",
    "\n",
    "X = df1.drop(columns=['Quality of Sleep'])  # Features\n",
    "y = df1['Quality of Sleep']  # Target\n",
    "\n",
    "X_train, X_test, y_train, y_test = train_test_split(X, y, test_size=0.2, random_state=42)\n",
    "\n",
    "# Train the model\n",
    "model = RandomForestRegressor(random_state=42)\n",
    "model.fit(X_train, y_train)\n",
    "\n",
    "# Test the model\n",
    "predictions = model.predict(X_test)\n",
    "mse = mean_squared_error(y_test, predictions)\n",
    "print(f\"Mean Squared Error: {mse}\")\n",
    "\n",
    "#joblib.dump(model, 'sleep_quality_model.pkl')"
   ]
  },
  {
   "cell_type": "code",
   "execution_count": 240,
   "id": "2ea7aa63-da69-476c-a845-1c0cad540b07",
   "metadata": {},
   "outputs": [
    {
     "name": "stderr",
     "output_type": "stream",
     "text": [
      "C:\\Users\\darel\\anaconda3\\Lib\\site-packages\\sklearn\\base.py:493: UserWarning: X does not have valid feature names, but StandardScaler was fitted with feature names\n",
      "  warnings.warn(\n"
     ]
    },
    {
     "ename": "ValueError",
     "evalue": "X has 5 features, but StandardScaler is expecting 3 features as input.",
     "output_type": "error",
     "traceback": [
      "\u001b[1;31m---------------------------------------------------------------------------\u001b[0m",
      "\u001b[1;31mValueError\u001b[0m                                Traceback (most recent call last)",
      "Cell \u001b[1;32mIn[240], line 2\u001b[0m\n\u001b[0;32m      1\u001b[0m input_data \u001b[38;5;241m=\u001b[39m np\u001b[38;5;241m.\u001b[39marray([[\u001b[38;5;241m0\u001b[39m, \u001b[38;5;241m30\u001b[39m, \u001b[38;5;241m8\u001b[39m, \u001b[38;5;241m1\u001b[39m, \u001b[38;5;241m7000\u001b[39m]])\n\u001b[1;32m----> 2\u001b[0m input_cleaned \u001b[38;5;241m=\u001b[39m scaler\u001b[38;5;241m.\u001b[39mtransform(input_data)\n\u001b[0;32m      3\u001b[0m predi \u001b[38;5;241m=\u001b[39m model\u001b[38;5;241m.\u001b[39mpredict(input_cleaned)\n\u001b[0;32m      4\u001b[0m predi\n",
      "File \u001b[1;32m~\\anaconda3\\Lib\\site-packages\\sklearn\\utils\\_set_output.py:295\u001b[0m, in \u001b[0;36m_wrap_method_output.<locals>.wrapped\u001b[1;34m(self, X, *args, **kwargs)\u001b[0m\n\u001b[0;32m    293\u001b[0m \u001b[38;5;129m@wraps\u001b[39m(f)\n\u001b[0;32m    294\u001b[0m \u001b[38;5;28;01mdef\u001b[39;00m \u001b[38;5;21mwrapped\u001b[39m(\u001b[38;5;28mself\u001b[39m, X, \u001b[38;5;241m*\u001b[39margs, \u001b[38;5;241m*\u001b[39m\u001b[38;5;241m*\u001b[39mkwargs):\n\u001b[1;32m--> 295\u001b[0m     data_to_wrap \u001b[38;5;241m=\u001b[39m f(\u001b[38;5;28mself\u001b[39m, X, \u001b[38;5;241m*\u001b[39margs, \u001b[38;5;241m*\u001b[39m\u001b[38;5;241m*\u001b[39mkwargs)\n\u001b[0;32m    296\u001b[0m     \u001b[38;5;28;01mif\u001b[39;00m \u001b[38;5;28misinstance\u001b[39m(data_to_wrap, \u001b[38;5;28mtuple\u001b[39m):\n\u001b[0;32m    297\u001b[0m         \u001b[38;5;66;03m# only wrap the first output for cross decomposition\u001b[39;00m\n\u001b[0;32m    298\u001b[0m         return_tuple \u001b[38;5;241m=\u001b[39m (\n\u001b[0;32m    299\u001b[0m             _wrap_data_with_container(method, data_to_wrap[\u001b[38;5;241m0\u001b[39m], X, \u001b[38;5;28mself\u001b[39m),\n\u001b[0;32m    300\u001b[0m             \u001b[38;5;241m*\u001b[39mdata_to_wrap[\u001b[38;5;241m1\u001b[39m:],\n\u001b[0;32m    301\u001b[0m         )\n",
      "File \u001b[1;32m~\\anaconda3\\Lib\\site-packages\\sklearn\\preprocessing\\_data.py:1043\u001b[0m, in \u001b[0;36mStandardScaler.transform\u001b[1;34m(self, X, copy)\u001b[0m\n\u001b[0;32m   1040\u001b[0m check_is_fitted(\u001b[38;5;28mself\u001b[39m)\n\u001b[0;32m   1042\u001b[0m copy \u001b[38;5;241m=\u001b[39m copy \u001b[38;5;28;01mif\u001b[39;00m copy \u001b[38;5;129;01mis\u001b[39;00m \u001b[38;5;129;01mnot\u001b[39;00m \u001b[38;5;28;01mNone\u001b[39;00m \u001b[38;5;28;01melse\u001b[39;00m \u001b[38;5;28mself\u001b[39m\u001b[38;5;241m.\u001b[39mcopy\n\u001b[1;32m-> 1043\u001b[0m X \u001b[38;5;241m=\u001b[39m \u001b[38;5;28mself\u001b[39m\u001b[38;5;241m.\u001b[39m_validate_data(\n\u001b[0;32m   1044\u001b[0m     X,\n\u001b[0;32m   1045\u001b[0m     reset\u001b[38;5;241m=\u001b[39m\u001b[38;5;28;01mFalse\u001b[39;00m,\n\u001b[0;32m   1046\u001b[0m     accept_sparse\u001b[38;5;241m=\u001b[39m\u001b[38;5;124m\"\u001b[39m\u001b[38;5;124mcsr\u001b[39m\u001b[38;5;124m\"\u001b[39m,\n\u001b[0;32m   1047\u001b[0m     copy\u001b[38;5;241m=\u001b[39mcopy,\n\u001b[0;32m   1048\u001b[0m     dtype\u001b[38;5;241m=\u001b[39mFLOAT_DTYPES,\n\u001b[0;32m   1049\u001b[0m     force_all_finite\u001b[38;5;241m=\u001b[39m\u001b[38;5;124m\"\u001b[39m\u001b[38;5;124mallow-nan\u001b[39m\u001b[38;5;124m\"\u001b[39m,\n\u001b[0;32m   1050\u001b[0m )\n\u001b[0;32m   1052\u001b[0m \u001b[38;5;28;01mif\u001b[39;00m sparse\u001b[38;5;241m.\u001b[39missparse(X):\n\u001b[0;32m   1053\u001b[0m     \u001b[38;5;28;01mif\u001b[39;00m \u001b[38;5;28mself\u001b[39m\u001b[38;5;241m.\u001b[39mwith_mean:\n",
      "File \u001b[1;32m~\\anaconda3\\Lib\\site-packages\\sklearn\\base.py:654\u001b[0m, in \u001b[0;36mBaseEstimator._validate_data\u001b[1;34m(self, X, y, reset, validate_separately, cast_to_ndarray, **check_params)\u001b[0m\n\u001b[0;32m    651\u001b[0m     out \u001b[38;5;241m=\u001b[39m X, y\n\u001b[0;32m    653\u001b[0m \u001b[38;5;28;01mif\u001b[39;00m \u001b[38;5;129;01mnot\u001b[39;00m no_val_X \u001b[38;5;129;01mand\u001b[39;00m check_params\u001b[38;5;241m.\u001b[39mget(\u001b[38;5;124m\"\u001b[39m\u001b[38;5;124mensure_2d\u001b[39m\u001b[38;5;124m\"\u001b[39m, \u001b[38;5;28;01mTrue\u001b[39;00m):\n\u001b[1;32m--> 654\u001b[0m     \u001b[38;5;28mself\u001b[39m\u001b[38;5;241m.\u001b[39m_check_n_features(X, reset\u001b[38;5;241m=\u001b[39mreset)\n\u001b[0;32m    656\u001b[0m \u001b[38;5;28;01mreturn\u001b[39;00m out\n",
      "File \u001b[1;32m~\\anaconda3\\Lib\\site-packages\\sklearn\\base.py:443\u001b[0m, in \u001b[0;36mBaseEstimator._check_n_features\u001b[1;34m(self, X, reset)\u001b[0m\n\u001b[0;32m    440\u001b[0m     \u001b[38;5;28;01mreturn\u001b[39;00m\n\u001b[0;32m    442\u001b[0m \u001b[38;5;28;01mif\u001b[39;00m n_features \u001b[38;5;241m!=\u001b[39m \u001b[38;5;28mself\u001b[39m\u001b[38;5;241m.\u001b[39mn_features_in_:\n\u001b[1;32m--> 443\u001b[0m     \u001b[38;5;28;01mraise\u001b[39;00m \u001b[38;5;167;01mValueError\u001b[39;00m(\n\u001b[0;32m    444\u001b[0m         \u001b[38;5;124mf\u001b[39m\u001b[38;5;124m\"\u001b[39m\u001b[38;5;124mX has \u001b[39m\u001b[38;5;132;01m{\u001b[39;00mn_features\u001b[38;5;132;01m}\u001b[39;00m\u001b[38;5;124m features, but \u001b[39m\u001b[38;5;132;01m{\u001b[39;00m\u001b[38;5;28mself\u001b[39m\u001b[38;5;241m.\u001b[39m\u001b[38;5;18m__class__\u001b[39m\u001b[38;5;241m.\u001b[39m\u001b[38;5;18m__name__\u001b[39m\u001b[38;5;132;01m}\u001b[39;00m\u001b[38;5;124m \u001b[39m\u001b[38;5;124m\"\u001b[39m\n\u001b[0;32m    445\u001b[0m         \u001b[38;5;124mf\u001b[39m\u001b[38;5;124m\"\u001b[39m\u001b[38;5;124mis expecting \u001b[39m\u001b[38;5;132;01m{\u001b[39;00m\u001b[38;5;28mself\u001b[39m\u001b[38;5;241m.\u001b[39mn_features_in_\u001b[38;5;132;01m}\u001b[39;00m\u001b[38;5;124m features as input.\u001b[39m\u001b[38;5;124m\"\u001b[39m\n\u001b[0;32m    446\u001b[0m     )\n",
      "\u001b[1;31mValueError\u001b[0m: X has 5 features, but StandardScaler is expecting 3 features as input."
     ]
    }
   ],
   "source": [
    "input_data = np.array([[0, 30, 8, 1, 7000]])\n",
    "input_cleaned = scaler.transform(input_data)\n",
    "predi = model.predict(input_cleaned)\n",
    "predi\n"
   ]
  },
  {
   "cell_type": "code",
   "execution_count": 258,
   "id": "56c04a9e-b5ce-4329-a3ff-8ed1b699f2f2",
   "metadata": {},
   "outputs": [
    {
     "name": "stdout",
     "output_type": "stream",
     "text": [
      "Mean Squared Error: 0.02068\n",
      "Predicted Quality of Sleep: 6.27\n"
     ]
    },
    {
     "name": "stderr",
     "output_type": "stream",
     "text": [
      "C:\\Users\\darel\\anaconda3\\Lib\\site-packages\\sklearn\\base.py:493: UserWarning: X does not have valid feature names, but StandardScaler was fitted with feature names\n",
      "  warnings.warn(\n",
      "C:\\Users\\darel\\anaconda3\\Lib\\site-packages\\sklearn\\base.py:493: UserWarning: X does not have valid feature names, but RandomForestRegressor was fitted with feature names\n",
      "  warnings.warn(\n"
     ]
    }
   ],
   "source": [
    "import pandas as pd\n",
    "import numpy as np\n",
    "import joblib\n",
    "from sklearn.preprocessing import LabelEncoder, StandardScaler\n",
    "from sklearn.model_selection import train_test_split\n",
    "from sklearn.ensemble import RandomForestRegressor\n",
    "from sklearn.metrics import mean_squared_error\n",
    "\n",
    "# Load the dataset\n",
    "df1 = pd.read_csv('sleep_data.csv')\n",
    "\n",
    "# Encode categorical columns\n",
    "df1['Gender'] = LabelEncoder().fit_transform(df1['Gender'])\n",
    "df1['BMI Category'] = LabelEncoder().fit_transform(df1['BMI Category'])\n",
    "\n",
    "# Scale numerical columns\n",
    "numerical_columns = ['Age', 'Sleep Duration', 'Daily Steps']\n",
    "scaler = StandardScaler()\n",
    "df1[numerical_columns] = scaler.fit_transform(df1[numerical_columns])\n",
    "\n",
    "# Save the fitted scaler\n",
    "joblib.dump(scaler, 'scaler.pkl')\n",
    "\n",
    "# Prepare features and target\n",
    "X = df1.drop(columns=['Quality of Sleep'])  # Features\n",
    "y = df1['Quality of Sleep']  # Target\n",
    "\n",
    "# Split the data\n",
    "X_train, X_test, y_train, y_test = train_test_split(X, y, test_size=0.2, random_state=42)\n",
    "\n",
    "# Train the model\n",
    "model = RandomForestRegressor(random_state=42)\n",
    "model.fit(X_train, y_train)\n",
    "\n",
    "# Test the model\n",
    "predictions = model.predict(X_test)\n",
    "mse = mean_squared_error(y_test, predictions)\n",
    "print(f\"Mean Squared Error: {mse}\")\n",
    "\n",
    "# Save the trained model\n",
    "joblib.dump(model, 'sleep_quality_model.pkl')\n",
    "\n",
    "# Function to preprocess input for prediction\n",
    "def preprocess_input(gender, age, sleep_duration, bmi_category, daily_steps):\n",
    "    # Encode categorical features\n",
    "    gender_encoded = 0 if gender == \"Male\" else 1\n",
    "    bmi_encoded = LabelEncoder().fit(['Underweight', 'Normal', 'Overweight', 'Obese']).transform([bmi_category])[0]\n",
    "    \n",
    "    # Prepare the input data with numerical features only for scaling\n",
    "    numerical_input = np.array([[age, sleep_duration, daily_steps]])\n",
    "    \n",
    "    # Scale the numerical input data using the fitted scaler\n",
    "    input_scaled = scaler.transform(numerical_input)\n",
    "    \n",
    "    # Combine scaled numerical input with encoded categorical features\n",
    "    input_final = np.concatenate([[gender_encoded, bmi_encoded], input_scaled[0]])\n",
    "    \n",
    "    return input_final.reshape(1, -1)  # Reshape for the model\n",
    "\n",
    "# Example of manual prediction\n",
    "gender = \"Female\"\n",
    "age = 40\n",
    "sleep_duration = 10\n",
    "bmi_category = \"Normal\"\n",
    "daily_steps = 10000\n",
    "\n",
    "input_cleaned = preprocess_input(gender, age, sleep_duration, bmi_category, daily_steps)\n",
    "predicted_quality = model.predict(input_cleaned)\n",
    "\n",
    "print(f\"Predicted Quality of Sleep: {predicted_quality[0]:.2f}\")\n"
   ]
  },
  {
   "cell_type": "code",
   "execution_count": 260,
   "id": "9c99c97d-e107-49d8-bc1c-2a81653dda1b",
   "metadata": {},
   "outputs": [
    {
     "data": {
      "text/html": [
       "<div>\n",
       "<style scoped>\n",
       "    .dataframe tbody tr th:only-of-type {\n",
       "        vertical-align: middle;\n",
       "    }\n",
       "\n",
       "    .dataframe tbody tr th {\n",
       "        vertical-align: top;\n",
       "    }\n",
       "\n",
       "    .dataframe thead th {\n",
       "        text-align: right;\n",
       "    }\n",
       "</style>\n",
       "<table border=\"1\" class=\"dataframe\">\n",
       "  <thead>\n",
       "    <tr style=\"text-align: right;\">\n",
       "      <th></th>\n",
       "      <th>Gender</th>\n",
       "      <th>Age</th>\n",
       "      <th>Sleep Duration</th>\n",
       "      <th>Quality of Sleep</th>\n",
       "      <th>BMI Category</th>\n",
       "      <th>Daily Steps</th>\n",
       "    </tr>\n",
       "  </thead>\n",
       "  <tbody>\n",
       "    <tr>\n",
       "      <th>0</th>\n",
       "      <td>1</td>\n",
       "      <td>-1.753096</td>\n",
       "      <td>-1.298887</td>\n",
       "      <td>6</td>\n",
       "      <td>3</td>\n",
       "      <td>-1.619584</td>\n",
       "    </tr>\n",
       "    <tr>\n",
       "      <th>1</th>\n",
       "      <td>1</td>\n",
       "      <td>-1.637643</td>\n",
       "      <td>-1.173036</td>\n",
       "      <td>6</td>\n",
       "      <td>0</td>\n",
       "      <td>1.970077</td>\n",
       "    </tr>\n",
       "    <tr>\n",
       "      <th>2</th>\n",
       "      <td>1</td>\n",
       "      <td>-1.637643</td>\n",
       "      <td>-1.173036</td>\n",
       "      <td>6</td>\n",
       "      <td>0</td>\n",
       "      <td>1.970077</td>\n",
       "    </tr>\n",
       "    <tr>\n",
       "      <th>3</th>\n",
       "      <td>1</td>\n",
       "      <td>-1.637643</td>\n",
       "      <td>-1.550588</td>\n",
       "      <td>4</td>\n",
       "      <td>2</td>\n",
       "      <td>-2.362273</td>\n",
       "    </tr>\n",
       "    <tr>\n",
       "      <th>4</th>\n",
       "      <td>1</td>\n",
       "      <td>-1.637643</td>\n",
       "      <td>-1.550588</td>\n",
       "      <td>4</td>\n",
       "      <td>2</td>\n",
       "      <td>-2.362273</td>\n",
       "    </tr>\n",
       "    <tr>\n",
       "      <th>...</th>\n",
       "      <td>...</td>\n",
       "      <td>...</td>\n",
       "      <td>...</td>\n",
       "      <td>...</td>\n",
       "      <td>...</td>\n",
       "      <td>...</td>\n",
       "    </tr>\n",
       "    <tr>\n",
       "      <th>369</th>\n",
       "      <td>0</td>\n",
       "      <td>1.941401</td>\n",
       "      <td>1.218127</td>\n",
       "      <td>9</td>\n",
       "      <td>3</td>\n",
       "      <td>0.113356</td>\n",
       "    </tr>\n",
       "    <tr>\n",
       "      <th>370</th>\n",
       "      <td>0</td>\n",
       "      <td>1.941401</td>\n",
       "      <td>1.092276</td>\n",
       "      <td>9</td>\n",
       "      <td>3</td>\n",
       "      <td>0.113356</td>\n",
       "    </tr>\n",
       "    <tr>\n",
       "      <th>371</th>\n",
       "      <td>0</td>\n",
       "      <td>1.941401</td>\n",
       "      <td>1.218127</td>\n",
       "      <td>9</td>\n",
       "      <td>3</td>\n",
       "      <td>0.113356</td>\n",
       "    </tr>\n",
       "    <tr>\n",
       "      <th>372</th>\n",
       "      <td>0</td>\n",
       "      <td>1.941401</td>\n",
       "      <td>1.218127</td>\n",
       "      <td>9</td>\n",
       "      <td>3</td>\n",
       "      <td>0.113356</td>\n",
       "    </tr>\n",
       "    <tr>\n",
       "      <th>373</th>\n",
       "      <td>0</td>\n",
       "      <td>1.941401</td>\n",
       "      <td>1.218127</td>\n",
       "      <td>9</td>\n",
       "      <td>3</td>\n",
       "      <td>0.113356</td>\n",
       "    </tr>\n",
       "  </tbody>\n",
       "</table>\n",
       "<p>374 rows × 6 columns</p>\n",
       "</div>"
      ],
      "text/plain": [
       "     Gender       Age  Sleep Duration  Quality of Sleep  BMI Category  \\\n",
       "0         1 -1.753096       -1.298887                 6             3   \n",
       "1         1 -1.637643       -1.173036                 6             0   \n",
       "2         1 -1.637643       -1.173036                 6             0   \n",
       "3         1 -1.637643       -1.550588                 4             2   \n",
       "4         1 -1.637643       -1.550588                 4             2   \n",
       "..      ...       ...             ...               ...           ...   \n",
       "369       0  1.941401        1.218127                 9             3   \n",
       "370       0  1.941401        1.092276                 9             3   \n",
       "371       0  1.941401        1.218127                 9             3   \n",
       "372       0  1.941401        1.218127                 9             3   \n",
       "373       0  1.941401        1.218127                 9             3   \n",
       "\n",
       "     Daily Steps  \n",
       "0      -1.619584  \n",
       "1       1.970077  \n",
       "2       1.970077  \n",
       "3      -2.362273  \n",
       "4      -2.362273  \n",
       "..           ...  \n",
       "369     0.113356  \n",
       "370     0.113356  \n",
       "371     0.113356  \n",
       "372     0.113356  \n",
       "373     0.113356  \n",
       "\n",
       "[374 rows x 6 columns]"
      ]
     },
     "execution_count": 260,
     "metadata": {},
     "output_type": "execute_result"
    }
   ],
   "source": [
    "df1"
   ]
  },
  {
   "cell_type": "code",
   "execution_count": 5,
   "id": "bf5fd153-5d31-42fa-9b29-7b7f03e5607d",
   "metadata": {},
   "outputs": [
    {
     "data": {
      "text/html": [
       "<div>\n",
       "<style scoped>\n",
       "    .dataframe tbody tr th:only-of-type {\n",
       "        vertical-align: middle;\n",
       "    }\n",
       "\n",
       "    .dataframe tbody tr th {\n",
       "        vertical-align: top;\n",
       "    }\n",
       "\n",
       "    .dataframe thead th {\n",
       "        text-align: right;\n",
       "    }\n",
       "</style>\n",
       "<table border=\"1\" class=\"dataframe\">\n",
       "  <thead>\n",
       "    <tr style=\"text-align: right;\">\n",
       "      <th></th>\n",
       "      <th>Gender</th>\n",
       "      <th>Age</th>\n",
       "      <th>Sleep Duration</th>\n",
       "      <th>Quality of Sleep</th>\n",
       "      <th>BMI Category</th>\n",
       "      <th>Daily Steps</th>\n",
       "    </tr>\n",
       "  </thead>\n",
       "  <tbody>\n",
       "    <tr>\n",
       "      <th>0</th>\n",
       "      <td>Male</td>\n",
       "      <td>27</td>\n",
       "      <td>6.1</td>\n",
       "      <td>6</td>\n",
       "      <td>Overweight</td>\n",
       "      <td>4200</td>\n",
       "    </tr>\n",
       "    <tr>\n",
       "      <th>1</th>\n",
       "      <td>Male</td>\n",
       "      <td>28</td>\n",
       "      <td>6.2</td>\n",
       "      <td>6</td>\n",
       "      <td>Normal</td>\n",
       "      <td>10000</td>\n",
       "    </tr>\n",
       "    <tr>\n",
       "      <th>2</th>\n",
       "      <td>Male</td>\n",
       "      <td>28</td>\n",
       "      <td>6.2</td>\n",
       "      <td>6</td>\n",
       "      <td>Normal</td>\n",
       "      <td>10000</td>\n",
       "    </tr>\n",
       "    <tr>\n",
       "      <th>3</th>\n",
       "      <td>Male</td>\n",
       "      <td>28</td>\n",
       "      <td>5.9</td>\n",
       "      <td>4</td>\n",
       "      <td>Obese</td>\n",
       "      <td>3000</td>\n",
       "    </tr>\n",
       "    <tr>\n",
       "      <th>4</th>\n",
       "      <td>Male</td>\n",
       "      <td>28</td>\n",
       "      <td>5.9</td>\n",
       "      <td>4</td>\n",
       "      <td>Obese</td>\n",
       "      <td>3000</td>\n",
       "    </tr>\n",
       "    <tr>\n",
       "      <th>...</th>\n",
       "      <td>...</td>\n",
       "      <td>...</td>\n",
       "      <td>...</td>\n",
       "      <td>...</td>\n",
       "      <td>...</td>\n",
       "      <td>...</td>\n",
       "    </tr>\n",
       "    <tr>\n",
       "      <th>369</th>\n",
       "      <td>Female</td>\n",
       "      <td>59</td>\n",
       "      <td>8.1</td>\n",
       "      <td>9</td>\n",
       "      <td>Overweight</td>\n",
       "      <td>7000</td>\n",
       "    </tr>\n",
       "    <tr>\n",
       "      <th>370</th>\n",
       "      <td>Female</td>\n",
       "      <td>59</td>\n",
       "      <td>8.0</td>\n",
       "      <td>9</td>\n",
       "      <td>Overweight</td>\n",
       "      <td>7000</td>\n",
       "    </tr>\n",
       "    <tr>\n",
       "      <th>371</th>\n",
       "      <td>Female</td>\n",
       "      <td>59</td>\n",
       "      <td>8.1</td>\n",
       "      <td>9</td>\n",
       "      <td>Overweight</td>\n",
       "      <td>7000</td>\n",
       "    </tr>\n",
       "    <tr>\n",
       "      <th>372</th>\n",
       "      <td>Female</td>\n",
       "      <td>59</td>\n",
       "      <td>8.1</td>\n",
       "      <td>9</td>\n",
       "      <td>Overweight</td>\n",
       "      <td>7000</td>\n",
       "    </tr>\n",
       "    <tr>\n",
       "      <th>373</th>\n",
       "      <td>Female</td>\n",
       "      <td>59</td>\n",
       "      <td>8.1</td>\n",
       "      <td>9</td>\n",
       "      <td>Overweight</td>\n",
       "      <td>7000</td>\n",
       "    </tr>\n",
       "  </tbody>\n",
       "</table>\n",
       "<p>374 rows × 6 columns</p>\n",
       "</div>"
      ],
      "text/plain": [
       "     Gender  Age  Sleep Duration  Quality of Sleep BMI Category  Daily Steps\n",
       "0      Male   27             6.1                 6   Overweight         4200\n",
       "1      Male   28             6.2                 6       Normal        10000\n",
       "2      Male   28             6.2                 6       Normal        10000\n",
       "3      Male   28             5.9                 4        Obese         3000\n",
       "4      Male   28             5.9                 4        Obese         3000\n",
       "..      ...  ...             ...               ...          ...          ...\n",
       "369  Female   59             8.1                 9   Overweight         7000\n",
       "370  Female   59             8.0                 9   Overweight         7000\n",
       "371  Female   59             8.1                 9   Overweight         7000\n",
       "372  Female   59             8.1                 9   Overweight         7000\n",
       "373  Female   59             8.1                 9   Overweight         7000\n",
       "\n",
       "[374 rows x 6 columns]"
      ]
     },
     "execution_count": 5,
     "metadata": {},
     "output_type": "execute_result"
    }
   ],
   "source": [
    "df1 = pd.read_csv('sleep_data.csv')\n",
    "df1"
   ]
  },
  {
   "cell_type": "code",
   "execution_count": 7,
   "id": "9a6d6307-aaf6-4feb-a767-a55f51bd1975",
   "metadata": {},
   "outputs": [
    {
     "data": {
      "text/html": [
       "<div>\n",
       "<style scoped>\n",
       "    .dataframe tbody tr th:only-of-type {\n",
       "        vertical-align: middle;\n",
       "    }\n",
       "\n",
       "    .dataframe tbody tr th {\n",
       "        vertical-align: top;\n",
       "    }\n",
       "\n",
       "    .dataframe thead th {\n",
       "        text-align: right;\n",
       "    }\n",
       "</style>\n",
       "<table border=\"1\" class=\"dataframe\">\n",
       "  <thead>\n",
       "    <tr style=\"text-align: right;\">\n",
       "      <th></th>\n",
       "      <th>Age</th>\n",
       "      <th>Sleep Duration</th>\n",
       "      <th>Quality of Sleep</th>\n",
       "      <th>Daily Steps</th>\n",
       "    </tr>\n",
       "  </thead>\n",
       "  <tbody>\n",
       "    <tr>\n",
       "      <th>count</th>\n",
       "      <td>374.000000</td>\n",
       "      <td>374.000000</td>\n",
       "      <td>374.000000</td>\n",
       "      <td>374.000000</td>\n",
       "    </tr>\n",
       "    <tr>\n",
       "      <th>mean</th>\n",
       "      <td>42.184492</td>\n",
       "      <td>7.132086</td>\n",
       "      <td>7.312834</td>\n",
       "      <td>6816.844920</td>\n",
       "    </tr>\n",
       "    <tr>\n",
       "      <th>std</th>\n",
       "      <td>8.673133</td>\n",
       "      <td>0.795657</td>\n",
       "      <td>1.196956</td>\n",
       "      <td>1617.915679</td>\n",
       "    </tr>\n",
       "    <tr>\n",
       "      <th>min</th>\n",
       "      <td>27.000000</td>\n",
       "      <td>5.800000</td>\n",
       "      <td>4.000000</td>\n",
       "      <td>3000.000000</td>\n",
       "    </tr>\n",
       "    <tr>\n",
       "      <th>25%</th>\n",
       "      <td>35.250000</td>\n",
       "      <td>6.400000</td>\n",
       "      <td>6.000000</td>\n",
       "      <td>5600.000000</td>\n",
       "    </tr>\n",
       "    <tr>\n",
       "      <th>50%</th>\n",
       "      <td>43.000000</td>\n",
       "      <td>7.200000</td>\n",
       "      <td>7.000000</td>\n",
       "      <td>7000.000000</td>\n",
       "    </tr>\n",
       "    <tr>\n",
       "      <th>75%</th>\n",
       "      <td>50.000000</td>\n",
       "      <td>7.800000</td>\n",
       "      <td>8.000000</td>\n",
       "      <td>8000.000000</td>\n",
       "    </tr>\n",
       "    <tr>\n",
       "      <th>max</th>\n",
       "      <td>59.000000</td>\n",
       "      <td>8.500000</td>\n",
       "      <td>9.000000</td>\n",
       "      <td>10000.000000</td>\n",
       "    </tr>\n",
       "  </tbody>\n",
       "</table>\n",
       "</div>"
      ],
      "text/plain": [
       "              Age  Sleep Duration  Quality of Sleep   Daily Steps\n",
       "count  374.000000      374.000000        374.000000    374.000000\n",
       "mean    42.184492        7.132086          7.312834   6816.844920\n",
       "std      8.673133        0.795657          1.196956   1617.915679\n",
       "min     27.000000        5.800000          4.000000   3000.000000\n",
       "25%     35.250000        6.400000          6.000000   5600.000000\n",
       "50%     43.000000        7.200000          7.000000   7000.000000\n",
       "75%     50.000000        7.800000          8.000000   8000.000000\n",
       "max     59.000000        8.500000          9.000000  10000.000000"
      ]
     },
     "execution_count": 7,
     "metadata": {},
     "output_type": "execute_result"
    }
   ],
   "source": [
    "df1.describe()"
   ]
  },
  {
   "cell_type": "code",
   "execution_count": 9,
   "id": "28680beb-26a5-4e3a-9936-ee9a7c42ad79",
   "metadata": {},
   "outputs": [],
   "source": [
    "df2 = df1.drop(columns=['BMI Category', 'Gender'])"
   ]
  },
  {
   "cell_type": "code",
   "execution_count": 11,
   "id": "c951213f-cb0d-41e1-be08-d511ac994aa2",
   "metadata": {},
   "outputs": [
    {
     "data": {
      "text/html": [
       "<div>\n",
       "<style scoped>\n",
       "    .dataframe tbody tr th:only-of-type {\n",
       "        vertical-align: middle;\n",
       "    }\n",
       "\n",
       "    .dataframe tbody tr th {\n",
       "        vertical-align: top;\n",
       "    }\n",
       "\n",
       "    .dataframe thead th {\n",
       "        text-align: right;\n",
       "    }\n",
       "</style>\n",
       "<table border=\"1\" class=\"dataframe\">\n",
       "  <thead>\n",
       "    <tr style=\"text-align: right;\">\n",
       "      <th></th>\n",
       "      <th>Age</th>\n",
       "      <th>Sleep Duration</th>\n",
       "      <th>Quality of Sleep</th>\n",
       "      <th>Daily Steps</th>\n",
       "    </tr>\n",
       "  </thead>\n",
       "  <tbody>\n",
       "    <tr>\n",
       "      <th>0</th>\n",
       "      <td>27</td>\n",
       "      <td>6.1</td>\n",
       "      <td>6</td>\n",
       "      <td>4200</td>\n",
       "    </tr>\n",
       "    <tr>\n",
       "      <th>1</th>\n",
       "      <td>28</td>\n",
       "      <td>6.2</td>\n",
       "      <td>6</td>\n",
       "      <td>10000</td>\n",
       "    </tr>\n",
       "    <tr>\n",
       "      <th>2</th>\n",
       "      <td>28</td>\n",
       "      <td>6.2</td>\n",
       "      <td>6</td>\n",
       "      <td>10000</td>\n",
       "    </tr>\n",
       "    <tr>\n",
       "      <th>3</th>\n",
       "      <td>28</td>\n",
       "      <td>5.9</td>\n",
       "      <td>4</td>\n",
       "      <td>3000</td>\n",
       "    </tr>\n",
       "    <tr>\n",
       "      <th>4</th>\n",
       "      <td>28</td>\n",
       "      <td>5.9</td>\n",
       "      <td>4</td>\n",
       "      <td>3000</td>\n",
       "    </tr>\n",
       "    <tr>\n",
       "      <th>...</th>\n",
       "      <td>...</td>\n",
       "      <td>...</td>\n",
       "      <td>...</td>\n",
       "      <td>...</td>\n",
       "    </tr>\n",
       "    <tr>\n",
       "      <th>369</th>\n",
       "      <td>59</td>\n",
       "      <td>8.1</td>\n",
       "      <td>9</td>\n",
       "      <td>7000</td>\n",
       "    </tr>\n",
       "    <tr>\n",
       "      <th>370</th>\n",
       "      <td>59</td>\n",
       "      <td>8.0</td>\n",
       "      <td>9</td>\n",
       "      <td>7000</td>\n",
       "    </tr>\n",
       "    <tr>\n",
       "      <th>371</th>\n",
       "      <td>59</td>\n",
       "      <td>8.1</td>\n",
       "      <td>9</td>\n",
       "      <td>7000</td>\n",
       "    </tr>\n",
       "    <tr>\n",
       "      <th>372</th>\n",
       "      <td>59</td>\n",
       "      <td>8.1</td>\n",
       "      <td>9</td>\n",
       "      <td>7000</td>\n",
       "    </tr>\n",
       "    <tr>\n",
       "      <th>373</th>\n",
       "      <td>59</td>\n",
       "      <td>8.1</td>\n",
       "      <td>9</td>\n",
       "      <td>7000</td>\n",
       "    </tr>\n",
       "  </tbody>\n",
       "</table>\n",
       "<p>374 rows × 4 columns</p>\n",
       "</div>"
      ],
      "text/plain": [
       "     Age  Sleep Duration  Quality of Sleep  Daily Steps\n",
       "0     27             6.1                 6         4200\n",
       "1     28             6.2                 6        10000\n",
       "2     28             6.2                 6        10000\n",
       "3     28             5.9                 4         3000\n",
       "4     28             5.9                 4         3000\n",
       "..   ...             ...               ...          ...\n",
       "369   59             8.1                 9         7000\n",
       "370   59             8.0                 9         7000\n",
       "371   59             8.1                 9         7000\n",
       "372   59             8.1                 9         7000\n",
       "373   59             8.1                 9         7000\n",
       "\n",
       "[374 rows x 4 columns]"
      ]
     },
     "execution_count": 11,
     "metadata": {},
     "output_type": "execute_result"
    }
   ],
   "source": [
    "df2"
   ]
  },
  {
   "cell_type": "code",
   "execution_count": 13,
   "id": "99674551-00a4-4c3e-8beb-18a082b6469f",
   "metadata": {},
   "outputs": [
    {
     "data": {
      "text/plain": [
       "0.9866666666666667"
      ]
     },
     "execution_count": 13,
     "metadata": {},
     "output_type": "execute_result"
    }
   ],
   "source": [
    "import pandas as pd\n",
    "from sklearn.tree import DecisionTreeClassifier\n",
    "from sklearn.model_selection import train_test_split\n",
    "from sklearn.metrics import accuracy_score\n",
    "\n",
    "X = df2.drop(columns=['Quality of Sleep'])\n",
    "y = df2['Quality of Sleep']\n",
    "X_train, X_test, y_train, y_test = train_test_split(X, y, test_size = 0.2)\n",
    "\n",
    "model = DecisionTreeClassifier()\n",
    "model.fit(X_train, y_train)\n",
    "predi = model.predict(X_test)\n",
    "\n",
    "score = accuracy_score(y_test, predi)\n",
    "score"
   ]
  },
  {
   "cell_type": "code",
   "execution_count": 420,
   "id": "d900c0cd-ec61-40ed-97cb-437f56c98412",
   "metadata": {},
   "outputs": [
    {
     "data": {
      "text/plain": [
       "['sleep_quality_model.pkl']"
      ]
     },
     "execution_count": 420,
     "metadata": {},
     "output_type": "execute_result"
    }
   ],
   "source": [
    "import joblib\n",
    "import pandas as pd\n",
    "from sklearn.tree import DecisionTreeClassifier\n",
    "from sklearn.model_selection import train_test_split\n",
    "from sklearn.metrics import accuracy_score\n",
    "\n",
    "X = df2.drop(columns=['Quality of Sleep'])\n",
    "y = df2['Quality of Sleep']\n",
    "\n",
    "model = DecisionTreeClassifier()\n",
    "model.fit(X, y)\n",
    "\n",
    "joblib.dump(model, 'sleep_quality_model.pkl')"
   ]
  },
  {
   "cell_type": "code",
   "execution_count": 436,
   "id": "d39a7bc5-e2ce-4134-b8d6-7dfc2393af64",
   "metadata": {},
   "outputs": [
    {
     "name": "stderr",
     "output_type": "stream",
     "text": [
      "C:\\Users\\darel\\anaconda3\\Lib\\site-packages\\sklearn\\base.py:493: UserWarning: X does not have valid feature names, but DecisionTreeClassifier was fitted with feature names\n",
      "  warnings.warn(\n"
     ]
    },
    {
     "data": {
      "text/plain": [
       "array([5], dtype=int64)"
      ]
     },
     "execution_count": 436,
     "metadata": {},
     "output_type": "execute_result"
    }
   ],
   "source": [
    "model = joblib.load('sleep_quality_model.pkl')\n",
    "predi = model.predict([[25, 6.5, 2500]])\n",
    "predi"
   ]
  },
  {
   "cell_type": "code",
   "execution_count": 446,
   "id": "f52d97b0-5a82-4003-8ef9-20164544f4ea",
   "metadata": {},
   "outputs": [
    {
     "data": {
      "text/plain": [
       "array([5], dtype=int64)"
      ]
     },
     "execution_count": 446,
     "metadata": {},
     "output_type": "execute_result"
    }
   ],
   "source": [
    "predi"
   ]
  },
  {
   "cell_type": "code",
   "execution_count": 452,
   "id": "7d79717f-c05d-48a4-b201-6cd9d3b2f96e",
   "metadata": {},
   "outputs": [
    {
     "data": {
      "text/plain": [
       "5"
      ]
     },
     "execution_count": 452,
     "metadata": {},
     "output_type": "execute_result"
    }
   ],
   "source": [
    "predi[0]"
   ]
  },
  {
   "cell_type": "code",
   "execution_count": 472,
   "id": "b837261d-b78a-438d-85c7-20ce588cf2d9",
   "metadata": {},
   "outputs": [
    {
     "name": "stdout",
     "output_type": "stream",
     "text": [
      "1.4.2\n"
     ]
    }
   ],
   "source": [
    "import sklearn\n",
    "print(sklearn.__version__)"
   ]
  },
  {
   "cell_type": "code",
   "execution_count": null,
   "id": "a1b10916-4a71-4918-860f-a527d2a47572",
   "metadata": {},
   "outputs": [],
   "source": []
  }
 ],
 "metadata": {
  "kernelspec": {
   "display_name": "Python 3 (ipykernel)",
   "language": "python",
   "name": "python3"
  },
  "language_info": {
   "codemirror_mode": {
    "name": "ipython",
    "version": 3
   },
   "file_extension": ".py",
   "mimetype": "text/x-python",
   "name": "python",
   "nbconvert_exporter": "python",
   "pygments_lexer": "ipython3",
   "version": "3.12.4"
  }
 },
 "nbformat": 4,
 "nbformat_minor": 5
}
